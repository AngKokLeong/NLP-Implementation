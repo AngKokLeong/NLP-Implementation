{
 "cells": [
  {
   "cell_type": "markdown",
   "metadata": {
    "id": "S6Amxz_hJVKz"
   },
   "source": [
    "## **Assessment 1 - 15%**  \n",
    "😀 or 🙁 ?"
   ]
  },
  {
   "cell_type": "markdown",
   "metadata": {
    "id": "E3-_BOO6jM1V"
   },
   "source": [
    "# Context - Customer product reviews - Women's Clothing E-Commerce Reviews\n",
    "\n",
    "\n",
    "In this new digital reality, online purchases have become the de facto.  \n",
    "\n",
    "People seek out information and product reviews before they make online purchases. Therefore, it is important for businesses to understand these reviews to improve on their product and services to reduce negative reviews. One way to do this is to apply sentiment analysis on these reviews. However, customer review data often contains unnecessary information that might affect the accuracy of sentiment analysis.   \n",
    "\n",
    "To get an accurate picture of sentiment analysis results, it is important that we process our dataset before we apply sentiment analysis.\n",
    "\n",
    "In this assignment, we will role play as a data analyst working to understand a women's clothing E commerce reviews."
   ]
  },
  {
   "cell_type": "markdown",
   "metadata": {
    "id": "nElTR6jJPhPA"
   },
   "source": [
    "Through this assessment 1, you should aim to\n",
    "\n",
    "\n",
    "\n",
    "1.   Apply appropriate pre-processing steps to process the data in a suitable format\n",
    "\n",
    "2.  Apply sentiment analysis using textblob after pre-processing  \n",
    "\n",
    "3.  Analyse the output of sentiment analysis using appropriate visualization techniques  \n",
    "\n",
    "\n",
    "\n",
    "\n"
   ]
  },
  {
   "cell_type": "markdown",
   "metadata": {
    "id": "pDd9zUfvjM1X"
   },
   "source": [
    "# Section 1: Importing libraries & Reading Data"
   ]
  },
  {
   "cell_type": "markdown",
   "metadata": {
    "id": "PkDnuDffjM1Y"
   },
   "source": [
    "### 1.1 Installing and importing necessary libraries"
   ]
  },
  {
   "cell_type": "code",
   "execution_count": null,
   "metadata": {
    "id": "faYT3ZYYI-Qj"
   },
   "outputs": [],
   "source": [
    "!pip install spacy==3.3.0\n",
    "!python -m spacy download en_core_web_sm"
   ]
  },
  {
   "cell_type": "code",
   "execution_count": null,
   "metadata": {},
   "outputs": [],
   "source": [
    "!pip install -U pip setuptools wheel\n",
    "!pip install -U spacy==3.8.0\n",
    "!python -m download en_core_web_sm"
   ]
  },
  {
   "cell_type": "markdown",
   "metadata": {
    "id": "ovjFG7ZMcYIb"
   },
   "source": [
    "Import necessary libararies (hint: pandas, numpy etc.)"
   ]
  },
  {
   "cell_type": "code",
   "execution_count": 9,
   "metadata": {
    "id": "oUV9lBGZjM1Z"
   },
   "outputs": [],
   "source": [
    "# Importing necessary library\n",
    "\n",
    "\n",
    "import pandas as pd\n",
    "import numpy as np\n",
    "import re\n",
    "import string\n",
    "from string import punctuation\n",
    "# from emot.emo_unicode import UNICODE_EMO, EMOTICONS\n",
    "import spacy\n",
    "\n",
    "nlp = spacy.load(\"en_core_web_sm\")\n",
    "\n",
    "# Allow longer string to be displayed properly\n",
    "pd.options.display.max_colwidth = 100"
   ]
  },
  {
   "cell_type": "markdown",
   "metadata": {
    "id": "6-Ih2ZmAjM1a"
   },
   "source": [
    "### 1.2 Reading the dataset\n",
    "\n",
    "The dataset used for this tutorial has taken from Kaggle. This is a Women's E-commerce clothing reviews dataset.The dataset can also be retrieved at the following link: https://www.kaggle.com/datasets/nicapotato/womens-ecommerce-clothing-reviews"
   ]
  },
  {
   "cell_type": "code",
   "execution_count": null,
   "metadata": {
    "colab": {
     "base_uri": "https://localhost:8080/"
    },
    "id": "wzDfsd_zHo5T",
    "outputId": "413f4606-ab42-4f14-aefb-37f6276f21a8"
   },
   "outputs": [
    {
     "name": "stdout",
     "output_type": "stream",
     "text": [
      "Mounted at /content/drive\n"
     ]
    }
   ],
   "source": [
    "from google.colab import drive\n",
    "drive.mount('/content/drive')"
   ]
  },
  {
   "cell_type": "code",
   "execution_count": 2,
   "metadata": {
    "id": "fhTFznUjxRUq"
   },
   "outputs": [],
   "source": [
    "filepath_to_input= \"/workspaces/nlp-container/NLP-Implementation\""
   ]
  },
  {
   "cell_type": "code",
   "execution_count": 3,
   "metadata": {
    "id": "e-ogsmtjH5e9"
   },
   "outputs": [],
   "source": [
    "# Reading the data. This is csv file, hence using read_csv function from pandas\n",
    "# Here, we have given a name \"df\" to the Amazon review dataset. df refers to \"dataframe\", which\n",
    "# is basically a 2-dimensional labeled data structure (just like the excel spreadsheet)\n",
    "\n",
    "\n",
    "df = pd.read_csv(f\"{filepath_to_input}/Womens_Clothing_E-Commerce_Reviews.csv\")"
   ]
  },
  {
   "cell_type": "code",
   "execution_count": 4,
   "metadata": {
    "colab": {
     "base_uri": "https://localhost:8080/",
     "height": 1000
    },
    "id": "sQ_we8crd_6e",
    "outputId": "5cc9e233-b983-4d75-eed1-1200b1c9aea3"
   },
   "outputs": [
    {
     "data": {
      "text/html": [
       "<div>\n",
       "<style scoped>\n",
       "    .dataframe tbody tr th:only-of-type {\n",
       "        vertical-align: middle;\n",
       "    }\n",
       "\n",
       "    .dataframe tbody tr th {\n",
       "        vertical-align: top;\n",
       "    }\n",
       "\n",
       "    .dataframe thead th {\n",
       "        text-align: right;\n",
       "    }\n",
       "</style>\n",
       "<table border=\"1\" class=\"dataframe\">\n",
       "  <thead>\n",
       "    <tr style=\"text-align: right;\">\n",
       "      <th></th>\n",
       "      <th>Unnamed: 0</th>\n",
       "      <th>Clothing ID</th>\n",
       "      <th>Age</th>\n",
       "      <th>Title</th>\n",
       "      <th>Review Text</th>\n",
       "      <th>Rating</th>\n",
       "      <th>Recommended IND</th>\n",
       "      <th>Positive Feedback Count</th>\n",
       "      <th>Division Name</th>\n",
       "      <th>Department Name</th>\n",
       "      <th>Class Name</th>\n",
       "    </tr>\n",
       "  </thead>\n",
       "  <tbody>\n",
       "    <tr>\n",
       "      <th>0</th>\n",
       "      <td>0</td>\n",
       "      <td>767</td>\n",
       "      <td>33</td>\n",
       "      <td>NaN</td>\n",
       "      <td>Absolutely wonderful - silky and sexy and comfortable</td>\n",
       "      <td>4</td>\n",
       "      <td>1</td>\n",
       "      <td>0</td>\n",
       "      <td>Initmates</td>\n",
       "      <td>Intimate</td>\n",
       "      <td>Intimates</td>\n",
       "    </tr>\n",
       "    <tr>\n",
       "      <th>1</th>\n",
       "      <td>1</td>\n",
       "      <td>1080</td>\n",
       "      <td>34</td>\n",
       "      <td>NaN</td>\n",
       "      <td>Love this dress!  it's sooo pretty.  i happened to find it in a store, and i'm glad i did bc i n...</td>\n",
       "      <td>5</td>\n",
       "      <td>1</td>\n",
       "      <td>4</td>\n",
       "      <td>General</td>\n",
       "      <td>Dresses</td>\n",
       "      <td>Dresses</td>\n",
       "    </tr>\n",
       "    <tr>\n",
       "      <th>2</th>\n",
       "      <td>2</td>\n",
       "      <td>1077</td>\n",
       "      <td>60</td>\n",
       "      <td>Some major design flaws</td>\n",
       "      <td>I had such high hopes for this dress and really wanted it to work for me. i initially ordered th...</td>\n",
       "      <td>3</td>\n",
       "      <td>0</td>\n",
       "      <td>0</td>\n",
       "      <td>General</td>\n",
       "      <td>Dresses</td>\n",
       "      <td>Dresses</td>\n",
       "    </tr>\n",
       "    <tr>\n",
       "      <th>3</th>\n",
       "      <td>3</td>\n",
       "      <td>1049</td>\n",
       "      <td>50</td>\n",
       "      <td>My favorite buy!</td>\n",
       "      <td>I love, love, love this jumpsuit. it's fun, flirty, and fabulous! every time i wear it, i get no...</td>\n",
       "      <td>5</td>\n",
       "      <td>1</td>\n",
       "      <td>0</td>\n",
       "      <td>General Petite</td>\n",
       "      <td>Bottoms</td>\n",
       "      <td>Pants</td>\n",
       "    </tr>\n",
       "    <tr>\n",
       "      <th>4</th>\n",
       "      <td>4</td>\n",
       "      <td>847</td>\n",
       "      <td>47</td>\n",
       "      <td>Flattering shirt</td>\n",
       "      <td>This shirt is very flattering to all due to the adjustable front tie. it is the perfect length t...</td>\n",
       "      <td>5</td>\n",
       "      <td>1</td>\n",
       "      <td>6</td>\n",
       "      <td>General</td>\n",
       "      <td>Tops</td>\n",
       "      <td>Blouses</td>\n",
       "    </tr>\n",
       "    <tr>\n",
       "      <th>...</th>\n",
       "      <td>...</td>\n",
       "      <td>...</td>\n",
       "      <td>...</td>\n",
       "      <td>...</td>\n",
       "      <td>...</td>\n",
       "      <td>...</td>\n",
       "      <td>...</td>\n",
       "      <td>...</td>\n",
       "      <td>...</td>\n",
       "      <td>...</td>\n",
       "      <td>...</td>\n",
       "    </tr>\n",
       "    <tr>\n",
       "      <th>23481</th>\n",
       "      <td>23481</td>\n",
       "      <td>1104</td>\n",
       "      <td>34</td>\n",
       "      <td>Great dress for many occasions</td>\n",
       "      <td>I was very happy to snag this dress at such a great price! it's very easy to slip on and has a v...</td>\n",
       "      <td>5</td>\n",
       "      <td>1</td>\n",
       "      <td>0</td>\n",
       "      <td>General Petite</td>\n",
       "      <td>Dresses</td>\n",
       "      <td>Dresses</td>\n",
       "    </tr>\n",
       "    <tr>\n",
       "      <th>23482</th>\n",
       "      <td>23482</td>\n",
       "      <td>862</td>\n",
       "      <td>48</td>\n",
       "      <td>Wish it was made of cotton</td>\n",
       "      <td>It reminds me of maternity clothes. soft, stretchy, shiny material. cut is flattering and drapes...</td>\n",
       "      <td>3</td>\n",
       "      <td>1</td>\n",
       "      <td>0</td>\n",
       "      <td>General Petite</td>\n",
       "      <td>Tops</td>\n",
       "      <td>Knits</td>\n",
       "    </tr>\n",
       "    <tr>\n",
       "      <th>23483</th>\n",
       "      <td>23483</td>\n",
       "      <td>1104</td>\n",
       "      <td>31</td>\n",
       "      <td>Cute, but see through</td>\n",
       "      <td>This fit well, but the top was very see through. this never would have worked for me. i'm glad i...</td>\n",
       "      <td>3</td>\n",
       "      <td>0</td>\n",
       "      <td>1</td>\n",
       "      <td>General Petite</td>\n",
       "      <td>Dresses</td>\n",
       "      <td>Dresses</td>\n",
       "    </tr>\n",
       "    <tr>\n",
       "      <th>23484</th>\n",
       "      <td>23484</td>\n",
       "      <td>1084</td>\n",
       "      <td>28</td>\n",
       "      <td>Very cute dress, perfect for summer parties and we</td>\n",
       "      <td>I bought this dress for a wedding i have this summer, and it's so cute. unfortunately the fit is...</td>\n",
       "      <td>3</td>\n",
       "      <td>1</td>\n",
       "      <td>2</td>\n",
       "      <td>General</td>\n",
       "      <td>Dresses</td>\n",
       "      <td>Dresses</td>\n",
       "    </tr>\n",
       "    <tr>\n",
       "      <th>23485</th>\n",
       "      <td>23485</td>\n",
       "      <td>1104</td>\n",
       "      <td>52</td>\n",
       "      <td>Please make more like this one!</td>\n",
       "      <td>This dress in a lovely platinum is feminine and fits perfectly, easy to wear and comfy, too! hig...</td>\n",
       "      <td>5</td>\n",
       "      <td>1</td>\n",
       "      <td>22</td>\n",
       "      <td>General Petite</td>\n",
       "      <td>Dresses</td>\n",
       "      <td>Dresses</td>\n",
       "    </tr>\n",
       "  </tbody>\n",
       "</table>\n",
       "<p>23486 rows × 11 columns</p>\n",
       "</div>"
      ],
      "text/plain": [
       "       Unnamed: 0  Clothing ID  Age  \\\n",
       "0               0          767   33   \n",
       "1               1         1080   34   \n",
       "2               2         1077   60   \n",
       "3               3         1049   50   \n",
       "4               4          847   47   \n",
       "...           ...          ...  ...   \n",
       "23481       23481         1104   34   \n",
       "23482       23482          862   48   \n",
       "23483       23483         1104   31   \n",
       "23484       23484         1084   28   \n",
       "23485       23485         1104   52   \n",
       "\n",
       "                                                    Title  \\\n",
       "0                                                     NaN   \n",
       "1                                                     NaN   \n",
       "2                                 Some major design flaws   \n",
       "3                                        My favorite buy!   \n",
       "4                                        Flattering shirt   \n",
       "...                                                   ...   \n",
       "23481                      Great dress for many occasions   \n",
       "23482                          Wish it was made of cotton   \n",
       "23483                               Cute, but see through   \n",
       "23484  Very cute dress, perfect for summer parties and we   \n",
       "23485                     Please make more like this one!   \n",
       "\n",
       "                                                                                               Review Text  \\\n",
       "0                                                    Absolutely wonderful - silky and sexy and comfortable   \n",
       "1      Love this dress!  it's sooo pretty.  i happened to find it in a store, and i'm glad i did bc i n...   \n",
       "2      I had such high hopes for this dress and really wanted it to work for me. i initially ordered th...   \n",
       "3      I love, love, love this jumpsuit. it's fun, flirty, and fabulous! every time i wear it, i get no...   \n",
       "4      This shirt is very flattering to all due to the adjustable front tie. it is the perfect length t...   \n",
       "...                                                                                                    ...   \n",
       "23481  I was very happy to snag this dress at such a great price! it's very easy to slip on and has a v...   \n",
       "23482  It reminds me of maternity clothes. soft, stretchy, shiny material. cut is flattering and drapes...   \n",
       "23483  This fit well, but the top was very see through. this never would have worked for me. i'm glad i...   \n",
       "23484  I bought this dress for a wedding i have this summer, and it's so cute. unfortunately the fit is...   \n",
       "23485  This dress in a lovely platinum is feminine and fits perfectly, easy to wear and comfy, too! hig...   \n",
       "\n",
       "       Rating  Recommended IND  Positive Feedback Count   Division Name  \\\n",
       "0           4                1                        0       Initmates   \n",
       "1           5                1                        4         General   \n",
       "2           3                0                        0         General   \n",
       "3           5                1                        0  General Petite   \n",
       "4           5                1                        6         General   \n",
       "...       ...              ...                      ...             ...   \n",
       "23481       5                1                        0  General Petite   \n",
       "23482       3                1                        0  General Petite   \n",
       "23483       3                0                        1  General Petite   \n",
       "23484       3                1                        2         General   \n",
       "23485       5                1                       22  General Petite   \n",
       "\n",
       "      Department Name Class Name  \n",
       "0            Intimate  Intimates  \n",
       "1             Dresses    Dresses  \n",
       "2             Dresses    Dresses  \n",
       "3             Bottoms      Pants  \n",
       "4                Tops    Blouses  \n",
       "...               ...        ...  \n",
       "23481         Dresses    Dresses  \n",
       "23482            Tops      Knits  \n",
       "23483         Dresses    Dresses  \n",
       "23484         Dresses    Dresses  \n",
       "23485         Dresses    Dresses  \n",
       "\n",
       "[23486 rows x 11 columns]"
      ]
     },
     "execution_count": 4,
     "metadata": {},
     "output_type": "execute_result"
    }
   ],
   "source": [
    "df"
   ]
  },
  {
   "cell_type": "code",
   "execution_count": 5,
   "metadata": {
    "colab": {
     "base_uri": "https://localhost:8080/",
     "height": 424
    },
    "id": "5stxA1KXfItb",
    "outputId": "1b8e2560-ce9f-41f7-9cea-ce4cc200cb00"
   },
   "outputs": [
    {
     "data": {
      "text/html": [
       "<div>\n",
       "<style scoped>\n",
       "    .dataframe tbody tr th:only-of-type {\n",
       "        vertical-align: middle;\n",
       "    }\n",
       "\n",
       "    .dataframe tbody tr th {\n",
       "        vertical-align: top;\n",
       "    }\n",
       "\n",
       "    .dataframe thead th {\n",
       "        text-align: right;\n",
       "    }\n",
       "</style>\n",
       "<table border=\"1\" class=\"dataframe\">\n",
       "  <thead>\n",
       "    <tr style=\"text-align: right;\">\n",
       "      <th></th>\n",
       "      <th>Review Text</th>\n",
       "    </tr>\n",
       "  </thead>\n",
       "  <tbody>\n",
       "    <tr>\n",
       "      <th>0</th>\n",
       "      <td>Absolutely wonderful - silky and sexy and comfortable</td>\n",
       "    </tr>\n",
       "    <tr>\n",
       "      <th>1</th>\n",
       "      <td>Love this dress!  it's sooo pretty.  i happened to find it in a store, and i'm glad i did bc i n...</td>\n",
       "    </tr>\n",
       "    <tr>\n",
       "      <th>2</th>\n",
       "      <td>I had such high hopes for this dress and really wanted it to work for me. i initially ordered th...</td>\n",
       "    </tr>\n",
       "    <tr>\n",
       "      <th>3</th>\n",
       "      <td>I love, love, love this jumpsuit. it's fun, flirty, and fabulous! every time i wear it, i get no...</td>\n",
       "    </tr>\n",
       "    <tr>\n",
       "      <th>4</th>\n",
       "      <td>This shirt is very flattering to all due to the adjustable front tie. it is the perfect length t...</td>\n",
       "    </tr>\n",
       "    <tr>\n",
       "      <th>...</th>\n",
       "      <td>...</td>\n",
       "    </tr>\n",
       "    <tr>\n",
       "      <th>23481</th>\n",
       "      <td>I was very happy to snag this dress at such a great price! it's very easy to slip on and has a v...</td>\n",
       "    </tr>\n",
       "    <tr>\n",
       "      <th>23482</th>\n",
       "      <td>It reminds me of maternity clothes. soft, stretchy, shiny material. cut is flattering and drapes...</td>\n",
       "    </tr>\n",
       "    <tr>\n",
       "      <th>23483</th>\n",
       "      <td>This fit well, but the top was very see through. this never would have worked for me. i'm glad i...</td>\n",
       "    </tr>\n",
       "    <tr>\n",
       "      <th>23484</th>\n",
       "      <td>I bought this dress for a wedding i have this summer, and it's so cute. unfortunately the fit is...</td>\n",
       "    </tr>\n",
       "    <tr>\n",
       "      <th>23485</th>\n",
       "      <td>This dress in a lovely platinum is feminine and fits perfectly, easy to wear and comfy, too! hig...</td>\n",
       "    </tr>\n",
       "  </tbody>\n",
       "</table>\n",
       "<p>23486 rows × 1 columns</p>\n",
       "</div>"
      ],
      "text/plain": [
       "                                                                                               Review Text\n",
       "0                                                    Absolutely wonderful - silky and sexy and comfortable\n",
       "1      Love this dress!  it's sooo pretty.  i happened to find it in a store, and i'm glad i did bc i n...\n",
       "2      I had such high hopes for this dress and really wanted it to work for me. i initially ordered th...\n",
       "3      I love, love, love this jumpsuit. it's fun, flirty, and fabulous! every time i wear it, i get no...\n",
       "4      This shirt is very flattering to all due to the adjustable front tie. it is the perfect length t...\n",
       "...                                                                                                    ...\n",
       "23481  I was very happy to snag this dress at such a great price! it's very easy to slip on and has a v...\n",
       "23482  It reminds me of maternity clothes. soft, stretchy, shiny material. cut is flattering and drapes...\n",
       "23483  This fit well, but the top was very see through. this never would have worked for me. i'm glad i...\n",
       "23484  I bought this dress for a wedding i have this summer, and it's so cute. unfortunately the fit is...\n",
       "23485  This dress in a lovely platinum is feminine and fits perfectly, easy to wear and comfy, too! hig...\n",
       "\n",
       "[23486 rows x 1 columns]"
      ]
     },
     "execution_count": 5,
     "metadata": {},
     "output_type": "execute_result"
    }
   ],
   "source": [
    "reviews = df[['Review Text']]\n",
    "reviews"
   ]
  },
  {
   "cell_type": "markdown",
   "metadata": {
    "id": "ZS11n3gQZVJQ"
   },
   "source": [
    "# Section 2: Apply appropriate pre-processing steps to process the data in a suitable format  "
   ]
  },
  {
   "cell_type": "markdown",
   "metadata": {
    "id": "ddxnRFw_1oNu"
   },
   "source": [
    "###1. Remove the null values in the dataset. (1 mark)\n",
    "\n",
    "Show your code below to identify the number of null reviews. (0.5 mark)\n",
    "\n"
   ]
  },
  {
   "cell_type": "code",
   "execution_count": 10,
   "metadata": {
    "id": "73LhSPIi1mSb"
   },
   "outputs": [
    {
     "name": "stdout",
     "output_type": "stream",
     "text": [
      "[92, 93, 98, 135, 142, 165, 168, 192, 201, 248, 265, 298, 323, 342, 345, 400, 425, 455, 493, 519, 523, 527, 536, 542, 554, 562, 571, 574, 580, 611, 686, 707, 728, 732, 737, 753, 758, 797, 805, 892, 893, 974, 1004, 1030, 1046, 1201, 1298, 1315, 1344, 1366, 1425, 1454, 1471, 1485, 1534, 1562, 1573, 1582, 1611, 1643, 1660, 1703, 1717, 1720, 1764, 1817, 1835, 1928, 2063, 2081, 2103, 2149, 2160, 2174, 2219, 2242, 2251, 2313, 2323, 2362, 2387, 2410, 2412, 2466, 2468, 2487, 2519, 2520, 2560, 2571, 2739, 2763, 2778, 2805, 2824, 2875, 2938, 2941, 2954, 2959, 2991, 3021, 3028, 3037, 3040, 3042, 3050, 3077, 3109, 3186, 3235, 3236, 3257, 3306, 3317, 3322, 3327, 3329, 3399, 3418, 3438, 3456, 3484, 3490, 3588, 3639, 3679, 3716, 3726, 3740, 3750, 3770, 3791, 3852, 3856, 3909, 3913, 3961, 3967, 3976, 4024, 4057, 4059, 4060, 4063, 4087, 4156, 4175, 4198, 4205, 4212, 4308, 4368, 4369, 4370, 4426, 4441, 4481, 4524, 4532, 4560, 4582, 4584, 4589, 4599, 4612, 4657, 4661, 4665, 4740, 4777, 4786, 4850, 4853, 4866, 4896, 4909, 4916, 4922, 5003, 5104, 5156, 5165, 5211, 5242, 5257, 5262, 5307, 5321, 5360, 5392, 5432, 5478, 5511, 5513, 5527, 5536, 5539, 5554, 5557, 5591, 5655, 5671, 5685, 5700, 5708, 5732, 5736, 5769, 5776, 5798, 5862, 5883, 5921, 5987, 5989, 6002, 6014, 6019, 6083, 6120, 6259, 6287, 6303, 6305, 6308, 6340, 6437, 6469, 6562, 6579, 6590, 6608, 6638, 6642, 6681, 6742, 6749, 6855, 6861, 6964, 7006, 7043, 7053, 7094, 7176, 7201, 7230, 7242, 7307, 7322, 7368, 7390, 7402, 7413, 7448, 7459, 7483, 7486, 7530, 7531, 7542, 7544, 7545, 7548, 7552, 7678, 7680, 7704, 7710, 7732, 7742, 7791, 7834, 7861, 7882, 7892, 7903, 7940, 8009, 8024, 8028, 8029, 8050, 8073, 8142, 8160, 8181, 8185, 8209, 8227, 8242, 8339, 8345, 8389, 8415, 8445, 8599, 8615, 8685, 8692, 8706, 8710, 8754, 8792, 8814, 8917, 8923, 8929, 8943, 8980, 9006, 9013, 9020, 9052, 9060, 9079, 9101, 9132, 9147, 9221, 9253, 9279, 9295, 9297, 9306, 9319, 9324, 9348, 9365, 9366, 9395, 9413, 9430, 9497, 9505, 9604, 9624, 9648, 9668, 9671, 9677, 9694, 9702, 9706, 9726, 9739, 9874, 9879, 9909, 9957, 9982, 10041, 10047, 10048, 10051, 10071, 10086, 10087, 10167, 10220, 10224, 10268, 10286, 10360, 10408, 10447, 10483, 10511, 10514, 10584, 10599, 10641, 10651, 10652, 10686, 10716, 10722, 10744, 10755, 10774, 10787, 10818, 10843, 10889, 10915, 11012, 11028, 11096, 11123, 11140, 11174, 11176, 11192, 11199, 11215, 11219, 11248, 11333, 11352, 11355, 11422, 11425, 11428, 11477, 11483, 11489, 11639, 11641, 11655, 11686, 11695, 11701, 11782, 11794, 11822, 11831, 11841, 11850, 11851, 11894, 11901, 11902, 11917, 11974, 11982, 11996, 12000, 12002, 12014, 12027, 12036, 12050, 12070, 12072, 12102, 12178, 12202, 12237, 12283, 12295, 12308, 12320, 12392, 12419, 12424, 12430, 12455, 12489, 12547, 12554, 12592, 12596, 12617, 12618, 12620, 12638, 12683, 12709, 12770, 12798, 12809, 12832, 12859, 12866, 12867, 12933, 12964, 13001, 13016, 13121, 13143, 13156, 13236, 13260, 13294, 13350, 13379, 13397, 13400, 13426, 13428, 13429, 13432, 13444, 13449, 13454, 13465, 13487, 13525, 13527, 13530, 13533, 13618, 13633, 13740, 13748, 13787, 13789, 13828, 13838, 13915, 14011, 14092, 14120, 14121, 14129, 14142, 14182, 14217, 14226, 14261, 14277, 14285, 14359, 14399, 14411, 14439, 14442, 14449, 14472, 14562, 14571, 14573, 14601, 14606, 14622, 14623, 14673, 14698, 14710, 14746, 14772, 14801, 14811, 14812, 14874, 14950, 15012, 15016, 15082, 15105, 15113, 15118, 15174, 15186, 15194, 15201, 15219, 15223, 15237, 15241, 15242, 15320, 15364, 15417, 15450, 15475, 15510, 15525, 15533, 15552, 15571, 15611, 15614, 15638, 15660, 15673, 15680, 15706, 15713, 15719, 15723, 15732, 15761, 15765, 15772, 15777, 15783, 15816, 15821, 15822, 15823, 15826, 15834, 15836, 15841, 15861, 15887, 15888, 15928, 15954, 15984, 15993, 16002, 16025, 16040, 16048, 16168, 16184, 16231, 16267, 16330, 16336, 16342, 16375, 16431, 16458, 16506, 16531, 16573, 16580, 16608, 16712, 16746, 16777, 16823, 16892, 16973, 17100, 17103, 17134, 17141, 17185, 17193, 17202, 17240, 17256, 17296, 17302, 17310, 17407, 17419, 17441, 17447, 17456, 17464, 17470, 17476, 17517, 17551, 17630, 17699, 17772, 17775, 17826, 17840, 17857, 17919, 18013, 18082, 18170, 18172, 18216, 18243, 18245, 18265, 18271, 18365, 18396, 18404, 18408, 18416, 18445, 18452, 18487, 18500, 18555, 18557, 18606, 18621, 18737, 18747, 18759, 18794, 18804, 18806, 18840, 18846, 18861, 18871, 18940, 19001, 19155, 19172, 19189, 19207, 19212, 19263, 19315, 19394, 19435, 19439, 19441, 19490, 19513, 19516, 19565, 19597, 19749, 19846, 19879, 19917, 19928, 19949, 19950, 19971, 19984, 19989, 19992, 19996, 20051, 20058, 20063, 20073, 20093, 20095, 20113, 20116, 20136, 20137, 20151, 20166, 20181, 20228, 20245, 20256, 20258, 20275, 20290, 20338, 20355, 20361, 20386, 20465, 20482, 20492, 20504, 20510, 20548, 20564, 20568, 20649, 20733, 20757, 20773, 20863, 20864, 20894, 20895, 20907, 20920, 20958, 21009, 21019, 21037, 21079, 21098, 21136, 21193, 21202, 21231, 21259, 21268, 21309, 21335, 21338, 21418, 21424, 21428, 21450, 21454, 21497, 21547, 21558, 21679, 21701, 21711, 21751, 21774, 21775, 21784, 21790, 21809, 21814, 21819, 21824, 21825, 21860, 21877, 21878, 21883, 21903, 21905, 21937, 21959, 21986, 22017, 22028, 22100, 22101, 22108, 22124, 22140, 22211, 22230, 22231, 22246, 22260, 22309, 22323, 22336, 22391, 22422, 22452, 22492, 22505, 22583, 22595, 22619, 22636, 22639, 22646, 22662, 22670, 22699, 22787, 22847, 22932, 22943, 22948, 22959, 22987, 23021, 23059, 23080, 23120, 23127, 23166, 23224, 23258, 23301, 23303, 23470, 23480]\n",
      "Number of null reviews: 845\n"
     ]
    }
   ],
   "source": [
    "# code for identifying the number of null reviews\n",
    "\n",
    "null_review_index_list: list[int] = []\n",
    "\n",
    "for row_index, data in pd.isnull(df[['Review Text']]).iterrows():\n",
    "    if data[\"Review Text\"] == True:\n",
    "        null_review_index_list.append(row_index)\n",
    "\n",
    "print(null_review_index_list)\n",
    "print(\"Number of null reviews: \" + str(len(null_review_index_list)))"
   ]
  },
  {
   "cell_type": "markdown",
   "metadata": {
    "id": "zmrjw2iEox1h"
   },
   "source": [
    "Show your code below to remove all the null reviews. (0.5 mark)"
   ]
  },
  {
   "cell_type": "code",
   "execution_count": 11,
   "metadata": {
    "id": "jKVN0NBx2S_w"
   },
   "outputs": [],
   "source": [
    "# code for removing the null reviews\n",
    "\n",
    "review_without_null_value_index_list: list[int] = []\n",
    "\n",
    "for row_index, data in pd.isnull(df[['Review Text']]).iterrows():\n",
    "    if data[\"Review Text\"] == False:\n",
    "        review_without_null_value_index_list.append(row_index)\n",
    "\n",
    "ecommerce_review_without_null_data: pd.DataFrame = df.reindex(review_without_null_value_index_list, copy=True)"
   ]
  },
  {
   "cell_type": "markdown",
   "metadata": {
    "id": "S0J0GHPslzIj"
   },
   "source": [
    "###2. Remove the duplicate reviews in the dataset. (1 mark)\n",
    "\n",
    "Show your code below to check for duplicate reviews. (0.5 mark)\n",
    "\n",
    "\n",
    "\n"
   ]
  },
  {
   "cell_type": "code",
   "execution_count": 15,
   "metadata": {
    "id": "Zdwpv3K9lxXp"
   },
   "outputs": [
    {
     "data": {
      "text/plain": [
       "0        False\n",
       "1        False\n",
       "2        False\n",
       "3        False\n",
       "4        False\n",
       "         ...  \n",
       "23481    False\n",
       "23482    False\n",
       "23483    False\n",
       "23484    False\n",
       "23485    False\n",
       "Length: 22641, dtype: bool"
      ]
     },
     "execution_count": 15,
     "metadata": {},
     "output_type": "execute_result"
    }
   ],
   "source": [
    "# code for checking duplicated reviews\n",
    "\n",
    "ecommerce_review_without_null_data.duplicated(subset=\"Review Text\") \n",
    "\n"
   ]
  },
  {
   "cell_type": "markdown",
   "metadata": {
    "id": "Imi8kUZNoECZ"
   },
   "source": [
    "Show your code below for removing all duplicate reviews. (0.5 mark)"
   ]
  },
  {
   "cell_type": "code",
   "execution_count": null,
   "metadata": {
    "id": "nAQIxX7E1jiD"
   },
   "outputs": [],
   "source": [
    "# code for removing duplicated reviews\n"
   ]
  },
  {
   "cell_type": "markdown",
   "metadata": {
    "id": "ydb18Cur2e6P"
   },
   "source": [
    "###3. Convert reviews into lower case. (1 mark)"
   ]
  },
  {
   "cell_type": "markdown",
   "metadata": {
    "id": "wwXnRdNzo7a1"
   },
   "source": [
    "Show your code below to convert reviews into lower case.  "
   ]
  },
  {
   "cell_type": "code",
   "execution_count": null,
   "metadata": {
    "id": "50GHlsol2vFq"
   },
   "outputs": [],
   "source": [
    "# code for converting reviews into lower case\n"
   ]
  },
  {
   "cell_type": "markdown",
   "metadata": {
    "id": "SGsYmQcj2zj1"
   },
   "source": [
    "###4. Replace substring using regex. (2 marks)   \n",
    "\n"
   ]
  },
  {
   "cell_type": "markdown",
   "metadata": {
    "id": "LVm6gh44o-A7"
   },
   "source": [
    "\n",
    "### As a data analyst, you look into your dataset diligently and found a substring <font color = 'blue'>*‘\\&#39;’*</font> appears in between words like it<font color = 'blue'>*\\&#39;*</font>s (it's), i<font color = 'blue'>*\\&#39;*</font>ll (i'll), don<font color = 'blue'>*\\&#39;*</font>t (don't) etc.  \n",
    "\n",
    "### You googled online and found that <font color = 'blue'>*‘\\&#39;’*</font> is the HTML character coding for <font color = 'blue'>apostrophe ‘</font>, and you want to replace <font color = 'blue'>*‘\\&#39;’*</font> with <font color = 'blue'>apostrophe ‘</font> for better readability."
   ]
  },
  {
   "cell_type": "code",
   "execution_count": null,
   "metadata": {
    "id": "x9k1sLFm2Zw1"
   },
   "outputs": [],
   "source": [
    "print(reviews[reviews['Review Text'].str.contains('&#39')])"
   ]
  },
  {
   "cell_type": "markdown",
   "metadata": {
    "id": "kGqkJyE9sXh2"
   },
   "source": [
    "Show your code below using regex to replace <font color = 'blue'>*\\&#39;*</font> with <font color = 'blue'>apostrophe ‘</font> in all the reviews."
   ]
  },
  {
   "cell_type": "code",
   "execution_count": null,
   "metadata": {
    "id": "Sfjey8ubu-np"
   },
   "outputs": [],
   "source": [
    "# code for replacing ‘&#39;’ with apostrophe ‘.\n"
   ]
  },
  {
   "cell_type": "markdown",
   "metadata": {
    "id": "WM5FEEeHsZLP"
   },
   "source": [
    "###5. Remove \\r\\n (2 marks)"
   ]
  },
  {
   "cell_type": "markdown",
   "metadata": {
    "id": "uNFWk9tesbox"
   },
   "source": [
    "### You also found <font color = 'blue'>*\\r\\n*</font> to be appearing in your dataset quite a bit as well.  \n",
    "\n",
    "### You googled online and found that <font color = 'blue'>*\\r\\n*</font> is used as the new line character in windows to signify the end of a line of text and the start of a new one.  \n",
    "\n",
    "\n",
    "\n",
    "###You want to replace <font color = 'blue'>*\\r\\n*</font> with empty space <font color = 'blue'>' &nbsp;'</font> for better readability."
   ]
  },
  {
   "cell_type": "code",
   "execution_count": null,
   "metadata": {
    "id": "884i0Los2jpF"
   },
   "outputs": [],
   "source": [
    "print(reviews[reviews['Review Text'].str.contains('\\r\\n')])"
   ]
  },
  {
   "cell_type": "markdown",
   "metadata": {
    "id": "3WrLz8VpurQa"
   },
   "source": [
    "Show your code below using regex to replace <font color = 'blue'>*\\r\\n*</font> with <font color = 'blue'>' &nbsp;'</font>."
   ]
  },
  {
   "cell_type": "code",
   "execution_count": null,
   "metadata": {
    "id": "vBwe0QQzzhOI"
   },
   "outputs": [],
   "source": [
    "# code for replacing \\r\\n with ' '.\n"
   ]
  },
  {
   "cell_type": "markdown",
   "metadata": {
    "id": "aJ0W_mLX-sJs"
   },
   "source": [
    "###6. Contractions mapping (0.5 mark)\n"
   ]
  },
  {
   "cell_type": "markdown",
   "metadata": {
    "id": "pQT6w1wF_EoI"
   },
   "source": [
    "The contraction dictionary is provided for you.\n",
    "\n",
    "Show your code below to apply contraction mapping."
   ]
  },
  {
   "cell_type": "code",
   "execution_count": null,
   "metadata": {
    "id": "b64XemVh_QZ2"
   },
   "outputs": [],
   "source": [
    "# contractions dictionary\n",
    "\n",
    "contraction_dict = {\"sms\" : \"text message\", \"eng\" : \"england\", \"tbf\" : \"to be fair\", \"soo\" :\"so\", \"dms\" : \"direct messages\", \"gud\" : \"good\", \"acc\" : \"account\", \"uno\" : \"one\", \"cbd\" : \"central business district\",\n",
    "                    \"lel\" : \"laugh out loud\", \"nba\" : \"national basketball association\", \"ppl\" : \"people\", \"sec\" : \"second\", \"pal\" : \"friend\", \"pls\" : \"please\",\n",
    "                    \"meh\" : \"average\", \"smh\" : \"shaking my head\", \"atm\" : \"at the moment\",\"min\" : \"minute\", \"tbh\" : \"to be honest\", \"fps\" : \"frames per second\",\n",
    "                    \"imo\" : \"in my opinion\", \"pic\" : \"picture\", \"isp\" : \"internet service provider\",\"slo\" : \"slow\",\"tbh\" : \"to be honest\", \"cos\" : \"because\", \"utd\" :\"up to date\", \"btw\" : \"by the way\",\n",
    "                    \"aye\" : \"yes\", \"wtf\" : \"what the fuck\", \"havnt\" : \"have not\", \"yea\" : \"yes\", \"isnt\":\"is not\", \"yr\": \"year\", \"yup\" : \"yes\" , \"yay\" :\"yes\", \"fb\" :\"facebook\" ,\n",
    "                    \"fyi\" : \"for your information\",\"ain't\": \"is not\",\"ive\" :\"i have\", \"bro\" : \"brother\", \"omg\" : \"oh my god\", \"wont\" : \"will not\", \"didnt\" : \"did not\", \"aren't\": \"are not\",\n",
    "                    \"can't\": \"cannot\", \"'cause\": \"because\", \"could've\": \"could have\", \"couldn't\": \"could not\", \"didn't\": \"did not\",  \"doesn't\": \"does not\", \"don't\": \"do not\", \"hadn't\": \"had not\",\n",
    "                    \"hasn't\": \"has not\", \"haven't\": \"have not\", \"he'd\": \"he would\",\"he'll\": \"he will\", \"he's\": \"he is\", \"how'd\": \"how did\", \"how'd'y\": \"how do you\", \"how'll\": \"how will\", \"how's\": \"how is\",\n",
    "                    \"I'd\": \"I would\", \"I'd've\": \"I would have\", \"I'll\": \"I will\", \"I'll've\": \"I will have\",\"I'm\": \"I am\", \"I've\": \"I have\", \"i'd\": \"i would\", \"i'd've\": \"i would have\", \"i'll\": \"i will\",\n",
    "                    \"i'll've\": \"i will have\",\"i'm\": \"i am\", \"i've\": \"i have\", \"isn't\": \"is not\", \"it'd\": \"it would\", \"it'd've\": \"it would have\", \"it'll\": \"it will\", \"it'll've\": \"it will have\",\"it's\": \"it is\",\n",
    "                    \"let's\": \"let us\", \"ma'am\": \"madam\", \"mayn't\": \"may not\", \"might've\": \"might have\",\"mightn't\": \"might not\",\"mightn't've\": \"might not have\", \"must've\": \"must have\", \"mustn't\": \"must not\",\n",
    "                    \"mustn't've\": \"must not have\", \"needn't\": \"need not\", \"needn't've\": \"need not have\",\"o'clock\": \"of the clock\", \"oughtn't\": \"ought not\", \"oughtn't've\": \"ought not have\", \"shan't\": \"shall not\",\n",
    "                    \"sha'n't\": \"shall not\", \"shan't've\": \"shall not have\", \"she'd\": \"she would\", \"she'd've\": \"she would have\", \"she'll\": \"she will\", \"she'll've\": \"she will have\", \"she's\": \"she is\",\n",
    "                    \"should've\": \"should have\", \"shouldn't\": \"should not\", \"shouldn't've\": \"should not have\", \"so've\": \"so have\",\"so's\": \"so as\", \"this's\": \"this is\",\"that'd\": \"that would\", \"that'd've\": \"that would have\",\n",
    "                    \"that's\": \"that is\", \"there'd\": \"there would\", \"there'd've\": \"there would have\", \"there's\": \"there is\", \"here's\": \"here is\",\"they'd\": \"they would\", \"they'd've\": \"they would have\", \"they'll\": \"they will\",\n",
    "                    \"they'll've\": \"they will have\", \"they're\": \"they are\", \"they've\": \"they have\", \"to've\": \"to have\", \"wasn't\": \"was not\", \"we'd\": \"we would\", \"we'd've\": \"we would have\", \"we'll\": \"we will\",\n",
    "                    \"we'll've\": \"we will have\", \"we're\": \"we are\", \"we've\": \"we have\", \"weren't\": \"were not\", \"what'll\": \"what will\", \"what'll've\": \"what will have\", \"what're\": \"what are\",  \"what's\": \"what is\",\n",
    "                    \"what've\": \"what have\", \"when's\": \"when is\", \"when've\": \"when have\", \"where'd\": \"where did\", \"where's\": \"where is\", \"where've\": \"where have\", \"who'll\": \"who will\", \"who'll've\": \"who will have\",\n",
    "                    \"who's\": \"who is\", \"who've\": \"who have\", \"why's\": \"why is\", \"why've\": \"why have\", \"will've\": \"will have\", \"won't\": \"will not\", \"won't've\": \"will not have\", \"would've\": \"would have\", \"wouldn't\": \"would not\",\n",
    "                    \"wouldn't've\": \"would not have\", \"y'all\": \"you all\", \"y'all'd\": \"you all would\",\"y'all'd've\": \"you all would have\",\"y'all're\": \"you all are\",\"y'all've\": \"you all have\",\"you'd\": \"you would\",\n",
    "                    \"you'd've\": \"you would have\",\n",
    "                    \"you'll\": \"you will\", \"you'll've\": \"you will have\",\"yeh\": \"yes\", \"you're\": \"you are\", \"you've\": \"you have\", \"yep\" : \"yes\", \"haha\" : \"happy\", \"wah\" : \"wow\", \"dont\" : \"do not\", \"don't\" : \"do not\", \"wat\": \"what\", \"pm\":\"personal message\"}"
   ]
  },
  {
   "cell_type": "code",
   "execution_count": null,
   "metadata": {
    "id": "FwHwCVdA1qb5"
   },
   "outputs": [],
   "source": [
    "# code for replacing contraction.\n"
   ]
  },
  {
   "cell_type": "markdown",
   "metadata": {
    "id": "DE24BQicslNe"
   },
   "source": [
    "###7. Remove punctuations (0.5 mark)"
   ]
  },
  {
   "cell_type": "markdown",
   "metadata": {
    "id": "7G5WdXLsstCB"
   },
   "source": [
    "Show your code below to remove punctuations."
   ]
  },
  {
   "cell_type": "code",
   "execution_count": null,
   "metadata": {
    "id": "sZCu-jbhwkK7"
   },
   "outputs": [],
   "source": [
    "# code for removing punctuations\n"
   ]
  },
  {
   "cell_type": "markdown",
   "metadata": {
    "id": "-6G-03l7eT-L"
   },
   "source": [
    "###8. Remove digits (2 marks)\n",
    "\n",
    "Digits are generally not useful in sentiment analysis. Let us use regex to remove them!"
   ]
  },
  {
   "cell_type": "markdown",
   "metadata": {
    "id": "czyGmIpkuzWi"
   },
   "source": [
    "Show your code below to remove digits  "
   ]
  },
  {
   "cell_type": "code",
   "execution_count": null,
   "metadata": {
    "id": "vod6a1SqW5eH"
   },
   "outputs": [],
   "source": [
    "# code for removing digits\n"
   ]
  },
  {
   "cell_type": "markdown",
   "metadata": {
    "id": "7xpn1lFwu1NU"
   },
   "source": [
    "###9.Remove non-ASCII (0.5 mark)"
   ]
  },
  {
   "cell_type": "code",
   "execution_count": null,
   "metadata": {
    "id": "sbLq3A0qeBjg"
   },
   "outputs": [],
   "source": [
    "# code for removing non-ASCII\n"
   ]
  },
  {
   "cell_type": "markdown",
   "metadata": {
    "id": "6JQB0WLmPSkd"
   },
   "source": [
    "### 10. Lemmatize reviews (0.5 mark)"
   ]
  },
  {
   "cell_type": "code",
   "execution_count": null,
   "metadata": {
    "id": "8U-DUxCiPb9b"
   },
   "outputs": [],
   "source": [
    "# code for lemmatizing reviews\n"
   ]
  },
  {
   "cell_type": "markdown",
   "metadata": {
    "id": "jOAYTifFjM1n"
   },
   "source": [
    "# Section 3: Analyzing Data and Visualizing the Results\n",
    "\n",
    "After we apply the appropriate pre-processing steps to process our data, we will be make use of the TextBlob library to calculate the polarity of the reviews."
   ]
  },
  {
   "cell_type": "markdown",
   "metadata": {
    "id": "ldAEJmTna2zW"
   },
   "source": [
    "### 11. Import the textblob library (1 mark)"
   ]
  },
  {
   "cell_type": "markdown",
   "metadata": {
    "id": "rvUoBgNkbpYV"
   },
   "source": [
    "Show your code below to import the textblob library.  "
   ]
  },
  {
   "cell_type": "code",
   "execution_count": null,
   "metadata": {
    "id": "RKD64IErbAws"
   },
   "outputs": [],
   "source": [
    "# code to import the textblob library"
   ]
  },
  {
   "cell_type": "markdown",
   "metadata": {
    "id": "B-8dK5RFjM1o"
   },
   "source": [
    "### 12. Calculate polarity score with textblob (1 mark)"
   ]
  },
  {
   "cell_type": "markdown",
   "metadata": {
    "id": "mD9XyRnLbuaV"
   },
   "source": [
    "Show your code below to calculate the polarity score of all the reviews.  "
   ]
  },
  {
   "cell_type": "code",
   "execution_count": null,
   "metadata": {
    "id": "bUWqCe9s2Jsg"
   },
   "outputs": [],
   "source": [
    "# code to calculate"
   ]
  },
  {
   "cell_type": "markdown",
   "metadata": {
    "id": "yAIncIeXjM1p"
   },
   "source": [
    "### 13. Classify the reviews into positive/neutral/negative reviews (1 mark)  "
   ]
  },
  {
   "cell_type": "markdown",
   "metadata": {
    "id": "8R9jn_kTcJ7u"
   },
   "source": [
    "Show your code below to classify the reviews into positive/neutral/negative reviews."
   ]
  },
  {
   "cell_type": "code",
   "execution_count": null,
   "metadata": {
    "id": "xKHB_fOsTeAW"
   },
   "outputs": [],
   "source": [
    "#"
   ]
  },
  {
   "cell_type": "markdown",
   "metadata": {
    "id": "coMdFzrgsAms"
   },
   "source": [
    "### 13 a. Print out any review that is assigned a positive sentiment by textblob. (1 mark)"
   ]
  },
  {
   "cell_type": "code",
   "execution_count": null,
   "metadata": {
    "id": "TdyI1p3RzLtF"
   },
   "outputs": [],
   "source": [
    "#"
   ]
  },
  {
   "cell_type": "markdown",
   "metadata": {
    "id": "SLlS7p4_sgic"
   },
   "source": [
    "### 13 b.  Comment whether you agree with the positive sentiment assigned using textblob?  (Hint: recall textblob’s limitations.) (1 mark)"
   ]
  },
  {
   "cell_type": "code",
   "execution_count": null,
   "metadata": {
    "id": "TzGPOeIZzME_"
   },
   "outputs": [],
   "source": [
    "#"
   ]
  },
  {
   "cell_type": "markdown",
   "metadata": {
    "id": "K7KLvGS1zBjl"
   },
   "source": [
    "### 14 a. Print out any review that is assigned a negative sentiment by textblob. (1 mark)"
   ]
  },
  {
   "cell_type": "code",
   "execution_count": null,
   "metadata": {
    "id": "ITPzjhDuzMaZ"
   },
   "outputs": [],
   "source": [
    "#"
   ]
  },
  {
   "cell_type": "markdown",
   "metadata": {
    "id": "Is4QOaMzzD9N"
   },
   "source": [
    "### 14 b. Comment whether you agree with the negative sentiment assigned using textblob?  (Hint: recall textblob’s limitations.) (1 mark)"
   ]
  },
  {
   "cell_type": "code",
   "execution_count": null,
   "metadata": {
    "id": "Oxv4l5RzzM1I"
   },
   "outputs": [],
   "source": [
    "#"
   ]
  },
  {
   "cell_type": "markdown",
   "metadata": {
    "id": "5k-2t7D7jM1p"
   },
   "source": [
    "# Section 4: Analyse the output of sentiment analysis using appropriate visualization techniques"
   ]
  },
  {
   "cell_type": "markdown",
   "metadata": {
    "id": "5gcE6IZwbBkX"
   },
   "source": [
    "### 15. Using appropriate graphs, visualize the output of sentiment analysis results. (3 marks)  "
   ]
  },
  {
   "cell_type": "code",
   "execution_count": null,
   "metadata": {
    "id": "xr_IkWC3jM1p"
   },
   "outputs": [],
   "source": [
    "#Visualizing the Sentiments\n"
   ]
  },
  {
   "cell_type": "markdown",
   "metadata": {
    "id": "CfxzV17gQQ0U"
   },
   "source": [
    "### 16. Explain your visualization in a few sentences. (2 marks)."
   ]
  },
  {
   "cell_type": "code",
   "execution_count": null,
   "metadata": {
    "id": "W8DWTWetQSDY"
   },
   "outputs": [],
   "source": [
    "# Explantion of your visualization"
   ]
  },
  {
   "cell_type": "markdown",
   "metadata": {
    "id": "YVBMuW3xnVMD"
   },
   "source": [
    "### 17. Print the top 5 most negative reviews. (2 marks)."
   ]
  },
  {
   "cell_type": "code",
   "execution_count": null,
   "metadata": {
    "id": "Z8BUxTFNeFHn"
   },
   "outputs": [],
   "source": [
    "# print the top 5 most negative reviews\n"
   ]
  }
 ],
 "metadata": {
  "colab": {
   "provenance": []
  },
  "kernelspec": {
   "display_name": "base",
   "language": "python",
   "name": "python3"
  },
  "language_info": {
   "codemirror_mode": {
    "name": "ipython",
    "version": 3
   },
   "file_extension": ".py",
   "mimetype": "text/x-python",
   "name": "python",
   "nbconvert_exporter": "python",
   "pygments_lexer": "ipython3",
   "version": "3.12.4"
  }
 },
 "nbformat": 4,
 "nbformat_minor": 0
}
