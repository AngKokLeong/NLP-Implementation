{
 "cells": [
  {
   "cell_type": "markdown",
   "metadata": {
    "id": "S6Amxz_hJVKz"
   },
   "source": [
    "## **Assessment 1 - 15%**  \n",
    "😀 or 🙁 ?"
   ]
  },
  {
   "cell_type": "markdown",
   "metadata": {
    "id": "E3-_BOO6jM1V"
   },
   "source": [
    "# Context - Customer product reviews - Women's Clothing E-Commerce Reviews\n",
    "\n",
    "\n",
    "In this new digital reality, online purchases have become the de facto.  \n",
    "\n",
    "People seek out information and product reviews before they make online purchases. Therefore, it is important for businesses to understand these reviews to improve on their product and services to reduce negative reviews. One way to do this is to apply sentiment analysis on these reviews. However, customer review data often contains unnecessary information that might affect the accuracy of sentiment analysis.   \n",
    "\n",
    "To get an accurate picture of sentiment analysis results, it is important that we process our dataset before we apply sentiment analysis.\n",
    "\n",
    "In this assignment, we will role play as a data analyst working to understand a women's clothing E commerce reviews."
   ]
  },
  {
   "cell_type": "markdown",
   "metadata": {
    "id": "nElTR6jJPhPA"
   },
   "source": [
    "Through this assessment 1, you should aim to\n",
    "\n",
    "\n",
    "\n",
    "1.   Apply appropriate pre-processing steps to process the data in a suitable format\n",
    "\n",
    "2.  Apply sentiment analysis using textblob after pre-processing  \n",
    "\n",
    "3.  Analyse the output of sentiment analysis using appropriate visualization techniques  \n",
    "\n",
    "\n",
    "\n",
    "\n"
   ]
  },
  {
   "cell_type": "markdown",
   "metadata": {
    "id": "pDd9zUfvjM1X"
   },
   "source": [
    "# Section 1: Importing libraries & Reading Data"
   ]
  },
  {
   "cell_type": "markdown",
   "metadata": {
    "id": "PkDnuDffjM1Y"
   },
   "source": [
    "### 1.1 Installing and importing necessary libraries"
   ]
  },
  {
   "cell_type": "code",
   "execution_count": null,
   "metadata": {
    "id": "faYT3ZYYI-Qj"
   },
   "outputs": [],
   "source": [
    "#!pip install spacy==3.3.0\n",
    "#!python -m spacy download en_core_web_sm"
   ]
  },
  {
   "cell_type": "markdown",
   "metadata": {},
   "source": [
    "The DevContainer setup is configured in Python 3 without Anaconda installation.\n",
    "\n",
    "The commands below this cell works in DevContainer[Python 3] and allows import of Spacy without any errors."
   ]
  },
  {
   "cell_type": "code",
   "execution_count": null,
   "metadata": {},
   "outputs": [],
   "source": [
    "#!pip install -U pip setuptools wheel\n",
    "#!pip install -U spacy\n",
    "#!python -m spacy download en_core_web_sm\n",
    "#!pip install pandas"
   ]
  },
  {
   "cell_type": "markdown",
   "metadata": {
    "id": "ovjFG7ZMcYIb"
   },
   "source": [
    "Import necessary libararies (hint: pandas, numpy etc.)"
   ]
  },
  {
   "cell_type": "code",
   "execution_count": 40,
   "metadata": {
    "id": "oUV9lBGZjM1Z"
   },
   "outputs": [],
   "source": [
    "# Importing necessary library\n",
    "\n",
    "\n",
    "import pandas as pd\n",
    "import numpy as np\n",
    "import re\n",
    "import string\n",
    "from string import punctuation\n",
    "# from emot.emo_unicode import UNICODE_EMO, EMOTICONS\n",
    "import spacy\n",
    "\n",
    "nlp = spacy.load(\"en_core_web_sm\")\n",
    "\n",
    "# Allow longer string to be displayed properly\n",
    "pd.options.display.max_colwidth = 100"
   ]
  },
  {
   "cell_type": "markdown",
   "metadata": {
    "id": "6-Ih2ZmAjM1a"
   },
   "source": [
    "### 1.2 Reading the dataset\n",
    "\n",
    "The dataset used for this tutorial has taken from Kaggle. This is a Women's E-commerce clothing reviews dataset.The dataset can also be retrieved at the following link: https://www.kaggle.com/datasets/nicapotato/womens-ecommerce-clothing-reviews"
   ]
  },
  {
   "cell_type": "code",
   "execution_count": null,
   "metadata": {
    "colab": {
     "base_uri": "https://localhost:8080/"
    },
    "id": "wzDfsd_zHo5T",
    "outputId": "413f4606-ab42-4f14-aefb-37f6276f21a8"
   },
   "outputs": [
    {
     "name": "stdout",
     "output_type": "stream",
     "text": [
      "Mounted at /content/drive\n"
     ]
    }
   ],
   "source": [
    "#from google.colab import drive\n",
    "#drive.mount('/content/drive')"
   ]
  },
  {
   "cell_type": "code",
   "execution_count": 160,
   "metadata": {
    "id": "fhTFznUjxRUq"
   },
   "outputs": [],
   "source": [
    "filepath_to_input= \"/workspaces/nlp-container/NLP-Implementation\""
   ]
  },
  {
   "cell_type": "code",
   "execution_count": 161,
   "metadata": {
    "id": "e-ogsmtjH5e9"
   },
   "outputs": [],
   "source": [
    "# Reading the data. This is csv file, hence using read_csv function from pandas\n",
    "# Here, we have given a name \"df\" to the Amazon review dataset. df refers to \"dataframe\", which\n",
    "# is basically a 2-dimensional labeled data structure (just like the excel spreadsheet)\n",
    "\n",
    "\n",
    "df = pd.read_csv(f\"{filepath_to_input}/Womens_Clothing_E-Commerce_Reviews.csv\")"
   ]
  },
  {
   "cell_type": "code",
   "execution_count": 162,
   "metadata": {
    "colab": {
     "base_uri": "https://localhost:8080/",
     "height": 1000
    },
    "id": "sQ_we8crd_6e",
    "outputId": "5cc9e233-b983-4d75-eed1-1200b1c9aea3"
   },
   "outputs": [
    {
     "data": {
      "text/html": [
       "<div>\n",
       "<style scoped>\n",
       "    .dataframe tbody tr th:only-of-type {\n",
       "        vertical-align: middle;\n",
       "    }\n",
       "\n",
       "    .dataframe tbody tr th {\n",
       "        vertical-align: top;\n",
       "    }\n",
       "\n",
       "    .dataframe thead th {\n",
       "        text-align: right;\n",
       "    }\n",
       "</style>\n",
       "<table border=\"1\" class=\"dataframe\">\n",
       "  <thead>\n",
       "    <tr style=\"text-align: right;\">\n",
       "      <th></th>\n",
       "      <th>Unnamed: 0</th>\n",
       "      <th>Clothing ID</th>\n",
       "      <th>Age</th>\n",
       "      <th>Title</th>\n",
       "      <th>Review Text</th>\n",
       "      <th>Rating</th>\n",
       "      <th>Recommended IND</th>\n",
       "      <th>Positive Feedback Count</th>\n",
       "      <th>Division Name</th>\n",
       "      <th>Department Name</th>\n",
       "      <th>Class Name</th>\n",
       "    </tr>\n",
       "  </thead>\n",
       "  <tbody>\n",
       "    <tr>\n",
       "      <th>0</th>\n",
       "      <td>0</td>\n",
       "      <td>767</td>\n",
       "      <td>33</td>\n",
       "      <td>NaN</td>\n",
       "      <td>Absolutely wonderful - silky and sexy and comfortable</td>\n",
       "      <td>4</td>\n",
       "      <td>1</td>\n",
       "      <td>0</td>\n",
       "      <td>Initmates</td>\n",
       "      <td>Intimate</td>\n",
       "      <td>Intimates</td>\n",
       "    </tr>\n",
       "    <tr>\n",
       "      <th>1</th>\n",
       "      <td>1</td>\n",
       "      <td>1080</td>\n",
       "      <td>34</td>\n",
       "      <td>NaN</td>\n",
       "      <td>Love this dress!  it's sooo pretty.  i happened to find it in a store, and i'm glad i did bc i n...</td>\n",
       "      <td>5</td>\n",
       "      <td>1</td>\n",
       "      <td>4</td>\n",
       "      <td>General</td>\n",
       "      <td>Dresses</td>\n",
       "      <td>Dresses</td>\n",
       "    </tr>\n",
       "    <tr>\n",
       "      <th>2</th>\n",
       "      <td>2</td>\n",
       "      <td>1077</td>\n",
       "      <td>60</td>\n",
       "      <td>Some major design flaws</td>\n",
       "      <td>I had such high hopes for this dress and really wanted it to work for me. i initially ordered th...</td>\n",
       "      <td>3</td>\n",
       "      <td>0</td>\n",
       "      <td>0</td>\n",
       "      <td>General</td>\n",
       "      <td>Dresses</td>\n",
       "      <td>Dresses</td>\n",
       "    </tr>\n",
       "    <tr>\n",
       "      <th>3</th>\n",
       "      <td>3</td>\n",
       "      <td>1049</td>\n",
       "      <td>50</td>\n",
       "      <td>My favorite buy!</td>\n",
       "      <td>I love, love, love this jumpsuit. it's fun, flirty, and fabulous! every time i wear it, i get no...</td>\n",
       "      <td>5</td>\n",
       "      <td>1</td>\n",
       "      <td>0</td>\n",
       "      <td>General Petite</td>\n",
       "      <td>Bottoms</td>\n",
       "      <td>Pants</td>\n",
       "    </tr>\n",
       "    <tr>\n",
       "      <th>4</th>\n",
       "      <td>4</td>\n",
       "      <td>847</td>\n",
       "      <td>47</td>\n",
       "      <td>Flattering shirt</td>\n",
       "      <td>This shirt is very flattering to all due to the adjustable front tie. it is the perfect length t...</td>\n",
       "      <td>5</td>\n",
       "      <td>1</td>\n",
       "      <td>6</td>\n",
       "      <td>General</td>\n",
       "      <td>Tops</td>\n",
       "      <td>Blouses</td>\n",
       "    </tr>\n",
       "    <tr>\n",
       "      <th>...</th>\n",
       "      <td>...</td>\n",
       "      <td>...</td>\n",
       "      <td>...</td>\n",
       "      <td>...</td>\n",
       "      <td>...</td>\n",
       "      <td>...</td>\n",
       "      <td>...</td>\n",
       "      <td>...</td>\n",
       "      <td>...</td>\n",
       "      <td>...</td>\n",
       "      <td>...</td>\n",
       "    </tr>\n",
       "    <tr>\n",
       "      <th>23481</th>\n",
       "      <td>23481</td>\n",
       "      <td>1104</td>\n",
       "      <td>34</td>\n",
       "      <td>Great dress for many occasions</td>\n",
       "      <td>I was very happy to snag this dress at such a great price! it's very easy to slip on and has a v...</td>\n",
       "      <td>5</td>\n",
       "      <td>1</td>\n",
       "      <td>0</td>\n",
       "      <td>General Petite</td>\n",
       "      <td>Dresses</td>\n",
       "      <td>Dresses</td>\n",
       "    </tr>\n",
       "    <tr>\n",
       "      <th>23482</th>\n",
       "      <td>23482</td>\n",
       "      <td>862</td>\n",
       "      <td>48</td>\n",
       "      <td>Wish it was made of cotton</td>\n",
       "      <td>It reminds me of maternity clothes. soft, stretchy, shiny material. cut is flattering and drapes...</td>\n",
       "      <td>3</td>\n",
       "      <td>1</td>\n",
       "      <td>0</td>\n",
       "      <td>General Petite</td>\n",
       "      <td>Tops</td>\n",
       "      <td>Knits</td>\n",
       "    </tr>\n",
       "    <tr>\n",
       "      <th>23483</th>\n",
       "      <td>23483</td>\n",
       "      <td>1104</td>\n",
       "      <td>31</td>\n",
       "      <td>Cute, but see through</td>\n",
       "      <td>This fit well, but the top was very see through. this never would have worked for me. i'm glad i...</td>\n",
       "      <td>3</td>\n",
       "      <td>0</td>\n",
       "      <td>1</td>\n",
       "      <td>General Petite</td>\n",
       "      <td>Dresses</td>\n",
       "      <td>Dresses</td>\n",
       "    </tr>\n",
       "    <tr>\n",
       "      <th>23484</th>\n",
       "      <td>23484</td>\n",
       "      <td>1084</td>\n",
       "      <td>28</td>\n",
       "      <td>Very cute dress, perfect for summer parties and we</td>\n",
       "      <td>I bought this dress for a wedding i have this summer, and it's so cute. unfortunately the fit is...</td>\n",
       "      <td>3</td>\n",
       "      <td>1</td>\n",
       "      <td>2</td>\n",
       "      <td>General</td>\n",
       "      <td>Dresses</td>\n",
       "      <td>Dresses</td>\n",
       "    </tr>\n",
       "    <tr>\n",
       "      <th>23485</th>\n",
       "      <td>23485</td>\n",
       "      <td>1104</td>\n",
       "      <td>52</td>\n",
       "      <td>Please make more like this one!</td>\n",
       "      <td>This dress in a lovely platinum is feminine and fits perfectly, easy to wear and comfy, too! hig...</td>\n",
       "      <td>5</td>\n",
       "      <td>1</td>\n",
       "      <td>22</td>\n",
       "      <td>General Petite</td>\n",
       "      <td>Dresses</td>\n",
       "      <td>Dresses</td>\n",
       "    </tr>\n",
       "  </tbody>\n",
       "</table>\n",
       "<p>23486 rows × 11 columns</p>\n",
       "</div>"
      ],
      "text/plain": [
       "       Unnamed: 0  Clothing ID  Age  \\\n",
       "0               0          767   33   \n",
       "1               1         1080   34   \n",
       "2               2         1077   60   \n",
       "3               3         1049   50   \n",
       "4               4          847   47   \n",
       "...           ...          ...  ...   \n",
       "23481       23481         1104   34   \n",
       "23482       23482          862   48   \n",
       "23483       23483         1104   31   \n",
       "23484       23484         1084   28   \n",
       "23485       23485         1104   52   \n",
       "\n",
       "                                                    Title  \\\n",
       "0                                                     NaN   \n",
       "1                                                     NaN   \n",
       "2                                 Some major design flaws   \n",
       "3                                        My favorite buy!   \n",
       "4                                        Flattering shirt   \n",
       "...                                                   ...   \n",
       "23481                      Great dress for many occasions   \n",
       "23482                          Wish it was made of cotton   \n",
       "23483                               Cute, but see through   \n",
       "23484  Very cute dress, perfect for summer parties and we   \n",
       "23485                     Please make more like this one!   \n",
       "\n",
       "                                                                                               Review Text  \\\n",
       "0                                                    Absolutely wonderful - silky and sexy and comfortable   \n",
       "1      Love this dress!  it's sooo pretty.  i happened to find it in a store, and i'm glad i did bc i n...   \n",
       "2      I had such high hopes for this dress and really wanted it to work for me. i initially ordered th...   \n",
       "3      I love, love, love this jumpsuit. it's fun, flirty, and fabulous! every time i wear it, i get no...   \n",
       "4      This shirt is very flattering to all due to the adjustable front tie. it is the perfect length t...   \n",
       "...                                                                                                    ...   \n",
       "23481  I was very happy to snag this dress at such a great price! it's very easy to slip on and has a v...   \n",
       "23482  It reminds me of maternity clothes. soft, stretchy, shiny material. cut is flattering and drapes...   \n",
       "23483  This fit well, but the top was very see through. this never would have worked for me. i'm glad i...   \n",
       "23484  I bought this dress for a wedding i have this summer, and it's so cute. unfortunately the fit is...   \n",
       "23485  This dress in a lovely platinum is feminine and fits perfectly, easy to wear and comfy, too! hig...   \n",
       "\n",
       "       Rating  Recommended IND  Positive Feedback Count   Division Name  \\\n",
       "0           4                1                        0       Initmates   \n",
       "1           5                1                        4         General   \n",
       "2           3                0                        0         General   \n",
       "3           5                1                        0  General Petite   \n",
       "4           5                1                        6         General   \n",
       "...       ...              ...                      ...             ...   \n",
       "23481       5                1                        0  General Petite   \n",
       "23482       3                1                        0  General Petite   \n",
       "23483       3                0                        1  General Petite   \n",
       "23484       3                1                        2         General   \n",
       "23485       5                1                       22  General Petite   \n",
       "\n",
       "      Department Name Class Name  \n",
       "0            Intimate  Intimates  \n",
       "1             Dresses    Dresses  \n",
       "2             Dresses    Dresses  \n",
       "3             Bottoms      Pants  \n",
       "4                Tops    Blouses  \n",
       "...               ...        ...  \n",
       "23481         Dresses    Dresses  \n",
       "23482            Tops      Knits  \n",
       "23483         Dresses    Dresses  \n",
       "23484         Dresses    Dresses  \n",
       "23485         Dresses    Dresses  \n",
       "\n",
       "[23486 rows x 11 columns]"
      ]
     },
     "execution_count": 162,
     "metadata": {},
     "output_type": "execute_result"
    }
   ],
   "source": [
    "df"
   ]
  },
  {
   "cell_type": "code",
   "execution_count": 163,
   "metadata": {
    "colab": {
     "base_uri": "https://localhost:8080/",
     "height": 424
    },
    "id": "5stxA1KXfItb",
    "outputId": "1b8e2560-ce9f-41f7-9cea-ce4cc200cb00"
   },
   "outputs": [
    {
     "data": {
      "text/html": [
       "<div>\n",
       "<style scoped>\n",
       "    .dataframe tbody tr th:only-of-type {\n",
       "        vertical-align: middle;\n",
       "    }\n",
       "\n",
       "    .dataframe tbody tr th {\n",
       "        vertical-align: top;\n",
       "    }\n",
       "\n",
       "    .dataframe thead th {\n",
       "        text-align: right;\n",
       "    }\n",
       "</style>\n",
       "<table border=\"1\" class=\"dataframe\">\n",
       "  <thead>\n",
       "    <tr style=\"text-align: right;\">\n",
       "      <th></th>\n",
       "      <th>Review Text</th>\n",
       "    </tr>\n",
       "  </thead>\n",
       "  <tbody>\n",
       "    <tr>\n",
       "      <th>0</th>\n",
       "      <td>Absolutely wonderful - silky and sexy and comfortable</td>\n",
       "    </tr>\n",
       "    <tr>\n",
       "      <th>1</th>\n",
       "      <td>Love this dress!  it's sooo pretty.  i happened to find it in a store, and i'm glad i did bc i n...</td>\n",
       "    </tr>\n",
       "    <tr>\n",
       "      <th>2</th>\n",
       "      <td>I had such high hopes for this dress and really wanted it to work for me. i initially ordered th...</td>\n",
       "    </tr>\n",
       "    <tr>\n",
       "      <th>3</th>\n",
       "      <td>I love, love, love this jumpsuit. it's fun, flirty, and fabulous! every time i wear it, i get no...</td>\n",
       "    </tr>\n",
       "    <tr>\n",
       "      <th>4</th>\n",
       "      <td>This shirt is very flattering to all due to the adjustable front tie. it is the perfect length t...</td>\n",
       "    </tr>\n",
       "    <tr>\n",
       "      <th>...</th>\n",
       "      <td>...</td>\n",
       "    </tr>\n",
       "    <tr>\n",
       "      <th>23481</th>\n",
       "      <td>I was very happy to snag this dress at such a great price! it's very easy to slip on and has a v...</td>\n",
       "    </tr>\n",
       "    <tr>\n",
       "      <th>23482</th>\n",
       "      <td>It reminds me of maternity clothes. soft, stretchy, shiny material. cut is flattering and drapes...</td>\n",
       "    </tr>\n",
       "    <tr>\n",
       "      <th>23483</th>\n",
       "      <td>This fit well, but the top was very see through. this never would have worked for me. i'm glad i...</td>\n",
       "    </tr>\n",
       "    <tr>\n",
       "      <th>23484</th>\n",
       "      <td>I bought this dress for a wedding i have this summer, and it's so cute. unfortunately the fit is...</td>\n",
       "    </tr>\n",
       "    <tr>\n",
       "      <th>23485</th>\n",
       "      <td>This dress in a lovely platinum is feminine and fits perfectly, easy to wear and comfy, too! hig...</td>\n",
       "    </tr>\n",
       "  </tbody>\n",
       "</table>\n",
       "<p>23486 rows × 1 columns</p>\n",
       "</div>"
      ],
      "text/plain": [
       "                                                                                               Review Text\n",
       "0                                                    Absolutely wonderful - silky and sexy and comfortable\n",
       "1      Love this dress!  it's sooo pretty.  i happened to find it in a store, and i'm glad i did bc i n...\n",
       "2      I had such high hopes for this dress and really wanted it to work for me. i initially ordered th...\n",
       "3      I love, love, love this jumpsuit. it's fun, flirty, and fabulous! every time i wear it, i get no...\n",
       "4      This shirt is very flattering to all due to the adjustable front tie. it is the perfect length t...\n",
       "...                                                                                                    ...\n",
       "23481  I was very happy to snag this dress at such a great price! it's very easy to slip on and has a v...\n",
       "23482  It reminds me of maternity clothes. soft, stretchy, shiny material. cut is flattering and drapes...\n",
       "23483  This fit well, but the top was very see through. this never would have worked for me. i'm glad i...\n",
       "23484  I bought this dress for a wedding i have this summer, and it's so cute. unfortunately the fit is...\n",
       "23485  This dress in a lovely platinum is feminine and fits perfectly, easy to wear and comfy, too! hig...\n",
       "\n",
       "[23486 rows x 1 columns]"
      ]
     },
     "execution_count": 163,
     "metadata": {},
     "output_type": "execute_result"
    }
   ],
   "source": [
    "reviews = df[['Review Text']]\n",
    "reviews"
   ]
  },
  {
   "cell_type": "markdown",
   "metadata": {
    "id": "ZS11n3gQZVJQ"
   },
   "source": [
    "# Section 2: Apply appropriate pre-processing steps to process the data in a suitable format  "
   ]
  },
  {
   "cell_type": "markdown",
   "metadata": {
    "id": "ddxnRFw_1oNu"
   },
   "source": [
    "### 1. Remove the null values in the dataset. (1 mark)\n",
    "\n",
    "Show your code below to identify the number of null reviews. (0.5 mark)\n",
    "\n"
   ]
  },
  {
   "cell_type": "code",
   "execution_count": 164,
   "metadata": {
    "id": "73LhSPIi1mSb"
   },
   "outputs": [
    {
     "name": "stdout",
     "output_type": "stream",
     "text": [
      "[92, 93, 98, 135, 142, 165, 168, 192, 201, 248, 265, 298, 323, 342, 345, 400, 425, 455, 493, 519, 523, 527, 536, 542, 554, 562, 571, 574, 580, 611, 686, 707, 728, 732, 737, 753, 758, 797, 805, 892, 893, 974, 1004, 1030, 1046, 1201, 1298, 1315, 1344, 1366, 1425, 1454, 1471, 1485, 1534, 1562, 1573, 1582, 1611, 1643, 1660, 1703, 1717, 1720, 1764, 1817, 1835, 1928, 2063, 2081, 2103, 2149, 2160, 2174, 2219, 2242, 2251, 2313, 2323, 2362, 2387, 2410, 2412, 2466, 2468, 2487, 2519, 2520, 2560, 2571, 2739, 2763, 2778, 2805, 2824, 2875, 2938, 2941, 2954, 2959, 2991, 3021, 3028, 3037, 3040, 3042, 3050, 3077, 3109, 3186, 3235, 3236, 3257, 3306, 3317, 3322, 3327, 3329, 3399, 3418, 3438, 3456, 3484, 3490, 3588, 3639, 3679, 3716, 3726, 3740, 3750, 3770, 3791, 3852, 3856, 3909, 3913, 3961, 3967, 3976, 4024, 4057, 4059, 4060, 4063, 4087, 4156, 4175, 4198, 4205, 4212, 4308, 4368, 4369, 4370, 4426, 4441, 4481, 4524, 4532, 4560, 4582, 4584, 4589, 4599, 4612, 4657, 4661, 4665, 4740, 4777, 4786, 4850, 4853, 4866, 4896, 4909, 4916, 4922, 5003, 5104, 5156, 5165, 5211, 5242, 5257, 5262, 5307, 5321, 5360, 5392, 5432, 5478, 5511, 5513, 5527, 5536, 5539, 5554, 5557, 5591, 5655, 5671, 5685, 5700, 5708, 5732, 5736, 5769, 5776, 5798, 5862, 5883, 5921, 5987, 5989, 6002, 6014, 6019, 6083, 6120, 6259, 6287, 6303, 6305, 6308, 6340, 6437, 6469, 6562, 6579, 6590, 6608, 6638, 6642, 6681, 6742, 6749, 6855, 6861, 6964, 7006, 7043, 7053, 7094, 7176, 7201, 7230, 7242, 7307, 7322, 7368, 7390, 7402, 7413, 7448, 7459, 7483, 7486, 7530, 7531, 7542, 7544, 7545, 7548, 7552, 7678, 7680, 7704, 7710, 7732, 7742, 7791, 7834, 7861, 7882, 7892, 7903, 7940, 8009, 8024, 8028, 8029, 8050, 8073, 8142, 8160, 8181, 8185, 8209, 8227, 8242, 8339, 8345, 8389, 8415, 8445, 8599, 8615, 8685, 8692, 8706, 8710, 8754, 8792, 8814, 8917, 8923, 8929, 8943, 8980, 9006, 9013, 9020, 9052, 9060, 9079, 9101, 9132, 9147, 9221, 9253, 9279, 9295, 9297, 9306, 9319, 9324, 9348, 9365, 9366, 9395, 9413, 9430, 9497, 9505, 9604, 9624, 9648, 9668, 9671, 9677, 9694, 9702, 9706, 9726, 9739, 9874, 9879, 9909, 9957, 9982, 10041, 10047, 10048, 10051, 10071, 10086, 10087, 10167, 10220, 10224, 10268, 10286, 10360, 10408, 10447, 10483, 10511, 10514, 10584, 10599, 10641, 10651, 10652, 10686, 10716, 10722, 10744, 10755, 10774, 10787, 10818, 10843, 10889, 10915, 11012, 11028, 11096, 11123, 11140, 11174, 11176, 11192, 11199, 11215, 11219, 11248, 11333, 11352, 11355, 11422, 11425, 11428, 11477, 11483, 11489, 11639, 11641, 11655, 11686, 11695, 11701, 11782, 11794, 11822, 11831, 11841, 11850, 11851, 11894, 11901, 11902, 11917, 11974, 11982, 11996, 12000, 12002, 12014, 12027, 12036, 12050, 12070, 12072, 12102, 12178, 12202, 12237, 12283, 12295, 12308, 12320, 12392, 12419, 12424, 12430, 12455, 12489, 12547, 12554, 12592, 12596, 12617, 12618, 12620, 12638, 12683, 12709, 12770, 12798, 12809, 12832, 12859, 12866, 12867, 12933, 12964, 13001, 13016, 13121, 13143, 13156, 13236, 13260, 13294, 13350, 13379, 13397, 13400, 13426, 13428, 13429, 13432, 13444, 13449, 13454, 13465, 13487, 13525, 13527, 13530, 13533, 13618, 13633, 13740, 13748, 13787, 13789, 13828, 13838, 13915, 14011, 14092, 14120, 14121, 14129, 14142, 14182, 14217, 14226, 14261, 14277, 14285, 14359, 14399, 14411, 14439, 14442, 14449, 14472, 14562, 14571, 14573, 14601, 14606, 14622, 14623, 14673, 14698, 14710, 14746, 14772, 14801, 14811, 14812, 14874, 14950, 15012, 15016, 15082, 15105, 15113, 15118, 15174, 15186, 15194, 15201, 15219, 15223, 15237, 15241, 15242, 15320, 15364, 15417, 15450, 15475, 15510, 15525, 15533, 15552, 15571, 15611, 15614, 15638, 15660, 15673, 15680, 15706, 15713, 15719, 15723, 15732, 15761, 15765, 15772, 15777, 15783, 15816, 15821, 15822, 15823, 15826, 15834, 15836, 15841, 15861, 15887, 15888, 15928, 15954, 15984, 15993, 16002, 16025, 16040, 16048, 16168, 16184, 16231, 16267, 16330, 16336, 16342, 16375, 16431, 16458, 16506, 16531, 16573, 16580, 16608, 16712, 16746, 16777, 16823, 16892, 16973, 17100, 17103, 17134, 17141, 17185, 17193, 17202, 17240, 17256, 17296, 17302, 17310, 17407, 17419, 17441, 17447, 17456, 17464, 17470, 17476, 17517, 17551, 17630, 17699, 17772, 17775, 17826, 17840, 17857, 17919, 18013, 18082, 18170, 18172, 18216, 18243, 18245, 18265, 18271, 18365, 18396, 18404, 18408, 18416, 18445, 18452, 18487, 18500, 18555, 18557, 18606, 18621, 18737, 18747, 18759, 18794, 18804, 18806, 18840, 18846, 18861, 18871, 18940, 19001, 19155, 19172, 19189, 19207, 19212, 19263, 19315, 19394, 19435, 19439, 19441, 19490, 19513, 19516, 19565, 19597, 19749, 19846, 19879, 19917, 19928, 19949, 19950, 19971, 19984, 19989, 19992, 19996, 20051, 20058, 20063, 20073, 20093, 20095, 20113, 20116, 20136, 20137, 20151, 20166, 20181, 20228, 20245, 20256, 20258, 20275, 20290, 20338, 20355, 20361, 20386, 20465, 20482, 20492, 20504, 20510, 20548, 20564, 20568, 20649, 20733, 20757, 20773, 20863, 20864, 20894, 20895, 20907, 20920, 20958, 21009, 21019, 21037, 21079, 21098, 21136, 21193, 21202, 21231, 21259, 21268, 21309, 21335, 21338, 21418, 21424, 21428, 21450, 21454, 21497, 21547, 21558, 21679, 21701, 21711, 21751, 21774, 21775, 21784, 21790, 21809, 21814, 21819, 21824, 21825, 21860, 21877, 21878, 21883, 21903, 21905, 21937, 21959, 21986, 22017, 22028, 22100, 22101, 22108, 22124, 22140, 22211, 22230, 22231, 22246, 22260, 22309, 22323, 22336, 22391, 22422, 22452, 22492, 22505, 22583, 22595, 22619, 22636, 22639, 22646, 22662, 22670, 22699, 22787, 22847, 22932, 22943, 22948, 22959, 22987, 23021, 23059, 23080, 23120, 23127, 23166, 23224, 23258, 23301, 23303, 23470, 23480]\n",
      "Number of null reviews: 845\n"
     ]
    }
   ],
   "source": [
    "# code for identifying the number of null reviews\n",
    "\n",
    "null_review_index_list: list[int] = []\n",
    "\n",
    "for row_index, data in pd.isnull(reviews).iterrows():\n",
    "    if data[\"Review Text\"] == True:\n",
    "        null_review_index_list.append(row_index)\n",
    "\n",
    "print(null_review_index_list)\n",
    "print(\"Number of null reviews: \" + str(len(null_review_index_list)))"
   ]
  },
  {
   "cell_type": "markdown",
   "metadata": {
    "id": "zmrjw2iEox1h"
   },
   "source": [
    "Show your code below to remove all the null reviews. (0.5 mark)"
   ]
  },
  {
   "cell_type": "code",
   "execution_count": 165,
   "metadata": {
    "id": "jKVN0NBx2S_w"
   },
   "outputs": [],
   "source": [
    "# code for removing the null reviews\n",
    "\n",
    "review_without_null_value_index_list: list[int] = []\n",
    "\n",
    "for row_index, data in pd.isnull(reviews).iterrows():\n",
    "    if data[\"Review Text\"] == False:\n",
    "        review_without_null_value_index_list.append(row_index)\n",
    "\n",
    "ecommerce_review_without_null_data: pd.DataFrame = df.reindex(review_without_null_value_index_list, copy=True)"
   ]
  },
  {
   "cell_type": "code",
   "execution_count": 166,
   "metadata": {},
   "outputs": [
    {
     "data": {
      "text/plain": [
       "(22641, 11)"
      ]
     },
     "execution_count": 166,
     "metadata": {},
     "output_type": "execute_result"
    }
   ],
   "source": [
    "ecommerce_review_without_null_data.shape"
   ]
  },
  {
   "cell_type": "code",
   "execution_count": 167,
   "metadata": {},
   "outputs": [
    {
     "data": {
      "text/html": [
       "<div>\n",
       "<style scoped>\n",
       "    .dataframe tbody tr th:only-of-type {\n",
       "        vertical-align: middle;\n",
       "    }\n",
       "\n",
       "    .dataframe tbody tr th {\n",
       "        vertical-align: top;\n",
       "    }\n",
       "\n",
       "    .dataframe thead th {\n",
       "        text-align: right;\n",
       "    }\n",
       "</style>\n",
       "<table border=\"1\" class=\"dataframe\">\n",
       "  <thead>\n",
       "    <tr style=\"text-align: right;\">\n",
       "      <th></th>\n",
       "      <th>Review Text</th>\n",
       "    </tr>\n",
       "  </thead>\n",
       "  <tbody>\n",
       "    <tr>\n",
       "      <th>0</th>\n",
       "      <td>Absolutely wonderful - silky and sexy and comfortable</td>\n",
       "    </tr>\n",
       "    <tr>\n",
       "      <th>1</th>\n",
       "      <td>Love this dress!  it's sooo pretty.  i happened to find it in a store, and i'm glad i did bc i n...</td>\n",
       "    </tr>\n",
       "    <tr>\n",
       "      <th>2</th>\n",
       "      <td>I had such high hopes for this dress and really wanted it to work for me. i initially ordered th...</td>\n",
       "    </tr>\n",
       "    <tr>\n",
       "      <th>3</th>\n",
       "      <td>I love, love, love this jumpsuit. it's fun, flirty, and fabulous! every time i wear it, i get no...</td>\n",
       "    </tr>\n",
       "    <tr>\n",
       "      <th>4</th>\n",
       "      <td>This shirt is very flattering to all due to the adjustable front tie. it is the perfect length t...</td>\n",
       "    </tr>\n",
       "    <tr>\n",
       "      <th>...</th>\n",
       "      <td>...</td>\n",
       "    </tr>\n",
       "    <tr>\n",
       "      <th>23481</th>\n",
       "      <td>I was very happy to snag this dress at such a great price! it's very easy to slip on and has a v...</td>\n",
       "    </tr>\n",
       "    <tr>\n",
       "      <th>23482</th>\n",
       "      <td>It reminds me of maternity clothes. soft, stretchy, shiny material. cut is flattering and drapes...</td>\n",
       "    </tr>\n",
       "    <tr>\n",
       "      <th>23483</th>\n",
       "      <td>This fit well, but the top was very see through. this never would have worked for me. i'm glad i...</td>\n",
       "    </tr>\n",
       "    <tr>\n",
       "      <th>23484</th>\n",
       "      <td>I bought this dress for a wedding i have this summer, and it's so cute. unfortunately the fit is...</td>\n",
       "    </tr>\n",
       "    <tr>\n",
       "      <th>23485</th>\n",
       "      <td>This dress in a lovely platinum is feminine and fits perfectly, easy to wear and comfy, too! hig...</td>\n",
       "    </tr>\n",
       "  </tbody>\n",
       "</table>\n",
       "<p>22641 rows × 1 columns</p>\n",
       "</div>"
      ],
      "text/plain": [
       "                                                                                               Review Text\n",
       "0                                                    Absolutely wonderful - silky and sexy and comfortable\n",
       "1      Love this dress!  it's sooo pretty.  i happened to find it in a store, and i'm glad i did bc i n...\n",
       "2      I had such high hopes for this dress and really wanted it to work for me. i initially ordered th...\n",
       "3      I love, love, love this jumpsuit. it's fun, flirty, and fabulous! every time i wear it, i get no...\n",
       "4      This shirt is very flattering to all due to the adjustable front tie. it is the perfect length t...\n",
       "...                                                                                                    ...\n",
       "23481  I was very happy to snag this dress at such a great price! it's very easy to slip on and has a v...\n",
       "23482  It reminds me of maternity clothes. soft, stretchy, shiny material. cut is flattering and drapes...\n",
       "23483  This fit well, but the top was very see through. this never would have worked for me. i'm glad i...\n",
       "23484  I bought this dress for a wedding i have this summer, and it's so cute. unfortunately the fit is...\n",
       "23485  This dress in a lovely platinum is feminine and fits perfectly, easy to wear and comfy, too! hig...\n",
       "\n",
       "[22641 rows x 1 columns]"
      ]
     },
     "execution_count": 167,
     "metadata": {},
     "output_type": "execute_result"
    }
   ],
   "source": [
    "reviews = ecommerce_review_without_null_data[['Review Text']]\n",
    "reviews"
   ]
  },
  {
   "cell_type": "markdown",
   "metadata": {
    "id": "S0J0GHPslzIj"
   },
   "source": [
    "### 2. Remove the duplicate reviews in the dataset. (1 mark)\n",
    "\n",
    "Show your code below to check for duplicate reviews. (0.5 mark)\n",
    "\n",
    "\n",
    "\n"
   ]
  },
  {
   "cell_type": "code",
   "execution_count": 168,
   "metadata": {
    "id": "Zdwpv3K9lxXp"
   },
   "outputs": [
    {
     "data": {
      "text/plain": [
       "0        False\n",
       "1        False\n",
       "2        False\n",
       "3        False\n",
       "4        False\n",
       "         ...  \n",
       "23481    False\n",
       "23482    False\n",
       "23483    False\n",
       "23484    False\n",
       "23485    False\n",
       "Length: 22641, dtype: bool"
      ]
     },
     "execution_count": 168,
     "metadata": {},
     "output_type": "execute_result"
    }
   ],
   "source": [
    "# code for checking duplicated reviews\n",
    "\n",
    "duplicated_series_data: pd.Series = reviews.duplicated(subset=\"Review Text\") \n",
    "\n",
    "duplicated_series_data"
   ]
  },
  {
   "cell_type": "markdown",
   "metadata": {},
   "source": [
    "#### Index of Duplicated reviews in the dataset"
   ]
  },
  {
   "cell_type": "code",
   "execution_count": 169,
   "metadata": {},
   "outputs": [
    {
     "data": {
      "text/plain": [
       "Index([10067, 11074, 12526, 13354, 14275, 21470, 21888], dtype='int64')"
      ]
     },
     "execution_count": 169,
     "metadata": {},
     "output_type": "execute_result"
    }
   ],
   "source": [
    "duplicated_series_data[duplicated_series_data == True].index"
   ]
  },
  {
   "cell_type": "code",
   "execution_count": 170,
   "metadata": {},
   "outputs": [
    {
     "data": {
      "text/plain": [
       "(7,)"
      ]
     },
     "execution_count": 170,
     "metadata": {},
     "output_type": "execute_result"
    }
   ],
   "source": [
    "duplicated_series_data[duplicated_series_data == True].shape"
   ]
  },
  {
   "cell_type": "markdown",
   "metadata": {},
   "source": [
    "There are 7 duplicate reviews in the dataset."
   ]
  },
  {
   "cell_type": "markdown",
   "metadata": {},
   "source": [
    "#### Displaying the duplicated dataset using the index generated from the result of the pandas.duplicated function"
   ]
  },
  {
   "cell_type": "code",
   "execution_count": 171,
   "metadata": {},
   "outputs": [
    {
     "data": {
      "text/html": [
       "<div>\n",
       "<style scoped>\n",
       "    .dataframe tbody tr th:only-of-type {\n",
       "        vertical-align: middle;\n",
       "    }\n",
       "\n",
       "    .dataframe tbody tr th {\n",
       "        vertical-align: top;\n",
       "    }\n",
       "\n",
       "    .dataframe thead th {\n",
       "        text-align: right;\n",
       "    }\n",
       "</style>\n",
       "<table border=\"1\" class=\"dataframe\">\n",
       "  <thead>\n",
       "    <tr style=\"text-align: right;\">\n",
       "      <th></th>\n",
       "      <th>Unnamed: 0</th>\n",
       "      <th>Clothing ID</th>\n",
       "      <th>Age</th>\n",
       "      <th>Title</th>\n",
       "      <th>Review Text</th>\n",
       "      <th>Rating</th>\n",
       "      <th>Recommended IND</th>\n",
       "      <th>Positive Feedback Count</th>\n",
       "      <th>Division Name</th>\n",
       "      <th>Department Name</th>\n",
       "      <th>Class Name</th>\n",
       "    </tr>\n",
       "  </thead>\n",
       "  <tbody>\n",
       "    <tr>\n",
       "      <th>10433</th>\n",
       "      <td>10433</td>\n",
       "      <td>819</td>\n",
       "      <td>39</td>\n",
       "      <td>Very cute, short</td>\n",
       "      <td>This is very cute in person. i love the colors, a tiny bit brighter in person. it is very femini...</td>\n",
       "      <td>5</td>\n",
       "      <td>1</td>\n",
       "      <td>5</td>\n",
       "      <td>General</td>\n",
       "      <td>Tops</td>\n",
       "      <td>Blouses</td>\n",
       "    </tr>\n",
       "    <tr>\n",
       "      <th>11479</th>\n",
       "      <td>11479</td>\n",
       "      <td>861</td>\n",
       "      <td>65</td>\n",
       "      <td>Fine t shirt</td>\n",
       "      <td>I ordered this online. it's fine. i am usually a small in tops and it fits true to the size. goo...</td>\n",
       "      <td>4</td>\n",
       "      <td>1</td>\n",
       "      <td>0</td>\n",
       "      <td>General</td>\n",
       "      <td>Tops</td>\n",
       "      <td>Knits</td>\n",
       "    </tr>\n",
       "    <tr>\n",
       "      <th>12994</th>\n",
       "      <td>12994</td>\n",
       "      <td>829</td>\n",
       "      <td>45</td>\n",
       "      <td>Great top</td>\n",
       "      <td>Love everything about the top. it's very versatile wear by itself or with a cute jacket. it's a ...</td>\n",
       "      <td>5</td>\n",
       "      <td>1</td>\n",
       "      <td>1</td>\n",
       "      <td>General</td>\n",
       "      <td>Tops</td>\n",
       "      <td>Blouses</td>\n",
       "    </tr>\n",
       "    <tr>\n",
       "      <th>13855</th>\n",
       "      <td>13855</td>\n",
       "      <td>1095</td>\n",
       "      <td>34</td>\n",
       "      <td>From horse track to beach day</td>\n",
       "      <td>I purchased this dress to wear to a horse race but will also be wearing it all summer long! the ...</td>\n",
       "      <td>4</td>\n",
       "      <td>1</td>\n",
       "      <td>0</td>\n",
       "      <td>General Petite</td>\n",
       "      <td>Dresses</td>\n",
       "      <td>Dresses</td>\n",
       "    </tr>\n",
       "    <tr>\n",
       "      <th>14809</th>\n",
       "      <td>14809</td>\n",
       "      <td>194</td>\n",
       "      <td>39</td>\n",
       "      <td>Fits tts &amp; small &amp; large</td>\n",
       "      <td>This great casual jacket has a confusing fit but if you know what you want and understand the st...</td>\n",
       "      <td>4</td>\n",
       "      <td>1</td>\n",
       "      <td>0</td>\n",
       "      <td>General Petite</td>\n",
       "      <td>Intimate</td>\n",
       "      <td>Lounge</td>\n",
       "    </tr>\n",
       "    <tr>\n",
       "      <th>22279</th>\n",
       "      <td>22279</td>\n",
       "      <td>451</td>\n",
       "      <td>30</td>\n",
       "      <td>Just don't wash it</td>\n",
       "      <td>I loved this dress...until i washed it. the label says machine wash cold and lay flat to dry...w...</td>\n",
       "      <td>3</td>\n",
       "      <td>1</td>\n",
       "      <td>11</td>\n",
       "      <td>General Petite</td>\n",
       "      <td>Intimate</td>\n",
       "      <td>Lounge</td>\n",
       "    </tr>\n",
       "    <tr>\n",
       "      <th>22714</th>\n",
       "      <td>22714</td>\n",
       "      <td>1087</td>\n",
       "      <td>42</td>\n",
       "      <td>Large and wide</td>\n",
       "      <td>This colors and fabric of this dress are beautiful and i really wanted to love it but from the c...</td>\n",
       "      <td>2</td>\n",
       "      <td>0</td>\n",
       "      <td>0</td>\n",
       "      <td>General Petite</td>\n",
       "      <td>Dresses</td>\n",
       "      <td>Dresses</td>\n",
       "    </tr>\n",
       "  </tbody>\n",
       "</table>\n",
       "</div>"
      ],
      "text/plain": [
       "       Unnamed: 0  Clothing ID  Age                          Title  \\\n",
       "10433       10433          819   39               Very cute, short   \n",
       "11479       11479          861   65                   Fine t shirt   \n",
       "12994       12994          829   45                      Great top   \n",
       "13855       13855         1095   34  From horse track to beach day   \n",
       "14809       14809          194   39       Fits tts & small & large   \n",
       "22279       22279          451   30             Just don't wash it   \n",
       "22714       22714         1087   42                 Large and wide   \n",
       "\n",
       "                                                                                               Review Text  \\\n",
       "10433  This is very cute in person. i love the colors, a tiny bit brighter in person. it is very femini...   \n",
       "11479  I ordered this online. it's fine. i am usually a small in tops and it fits true to the size. goo...   \n",
       "12994  Love everything about the top. it's very versatile wear by itself or with a cute jacket. it's a ...   \n",
       "13855  I purchased this dress to wear to a horse race but will also be wearing it all summer long! the ...   \n",
       "14809  This great casual jacket has a confusing fit but if you know what you want and understand the st...   \n",
       "22279  I loved this dress...until i washed it. the label says machine wash cold and lay flat to dry...w...   \n",
       "22714  This colors and fabric of this dress are beautiful and i really wanted to love it but from the c...   \n",
       "\n",
       "       Rating  Recommended IND  Positive Feedback Count   Division Name  \\\n",
       "10433       5                1                        5         General   \n",
       "11479       4                1                        0         General   \n",
       "12994       5                1                        1         General   \n",
       "13855       4                1                        0  General Petite   \n",
       "14809       4                1                        0  General Petite   \n",
       "22279       3                1                       11  General Petite   \n",
       "22714       2                0                        0  General Petite   \n",
       "\n",
       "      Department Name Class Name  \n",
       "10433            Tops    Blouses  \n",
       "11479            Tops      Knits  \n",
       "12994            Tops    Blouses  \n",
       "13855         Dresses    Dresses  \n",
       "14809        Intimate     Lounge  \n",
       "22279        Intimate     Lounge  \n",
       "22714         Dresses    Dresses  "
      ]
     },
     "execution_count": 171,
     "metadata": {},
     "output_type": "execute_result"
    }
   ],
   "source": [
    "ecommerce_review_without_null_data.iloc[duplicated_series_data[duplicated_series_data == True].index]"
   ]
  },
  {
   "cell_type": "markdown",
   "metadata": {
    "id": "Imi8kUZNoECZ"
   },
   "source": [
    "Show your code below for removing all duplicate reviews. (0.5 mark)"
   ]
  },
  {
   "cell_type": "code",
   "execution_count": 172,
   "metadata": {},
   "outputs": [
    {
     "data": {
      "text/plain": [
       "Index([    0,     1,     2,     3,     4,     5,     6,     7,     8,     9,\n",
       "       ...\n",
       "       23475, 23476, 23477, 23478, 23479, 23481, 23482, 23483, 23484, 23485],\n",
       "      dtype='int64', length=22634)"
      ]
     },
     "execution_count": 172,
     "metadata": {},
     "output_type": "execute_result"
    }
   ],
   "source": [
    "duplicated_series_data[duplicated_series_data == False].index"
   ]
  },
  {
   "cell_type": "code",
   "execution_count": 173,
   "metadata": {
    "id": "nAQIxX7E1jiD"
   },
   "outputs": [],
   "source": [
    "# code for removing duplicated reviews\n",
    "ecommerce_review_data: pd.DataFrame = ecommerce_review_without_null_data.reindex(duplicated_series_data[duplicated_series_data == False].index)"
   ]
  },
  {
   "cell_type": "code",
   "execution_count": 174,
   "metadata": {},
   "outputs": [
    {
     "data": {
      "text/plain": [
       "(22634, 11)"
      ]
     },
     "execution_count": 174,
     "metadata": {},
     "output_type": "execute_result"
    }
   ],
   "source": [
    "ecommerce_review_data.shape"
   ]
  },
  {
   "cell_type": "markdown",
   "metadata": {},
   "source": [
    "#### Removing duplicate index column 'Unnamed: 0' "
   ]
  },
  {
   "cell_type": "code",
   "execution_count": 175,
   "metadata": {},
   "outputs": [
    {
     "data": {
      "text/plain": [
       "Index(['Unnamed: 0', 'Clothing ID', 'Age', 'Title', 'Review Text', 'Rating',\n",
       "       'Recommended IND', 'Positive Feedback Count', 'Division Name',\n",
       "       'Department Name', 'Class Name'],\n",
       "      dtype='object')"
      ]
     },
     "execution_count": 175,
     "metadata": {},
     "output_type": "execute_result"
    }
   ],
   "source": [
    "ecommerce_review_data.columns"
   ]
  },
  {
   "cell_type": "code",
   "execution_count": 176,
   "metadata": {},
   "outputs": [],
   "source": [
    "ecommerce_review_data.drop(labels='Unnamed: 0', axis=1, inplace=True)\n"
   ]
  },
  {
   "cell_type": "code",
   "execution_count": 177,
   "metadata": {},
   "outputs": [
    {
     "data": {
      "text/html": [
       "<div>\n",
       "<style scoped>\n",
       "    .dataframe tbody tr th:only-of-type {\n",
       "        vertical-align: middle;\n",
       "    }\n",
       "\n",
       "    .dataframe tbody tr th {\n",
       "        vertical-align: top;\n",
       "    }\n",
       "\n",
       "    .dataframe thead th {\n",
       "        text-align: right;\n",
       "    }\n",
       "</style>\n",
       "<table border=\"1\" class=\"dataframe\">\n",
       "  <thead>\n",
       "    <tr style=\"text-align: right;\">\n",
       "      <th></th>\n",
       "      <th>Clothing ID</th>\n",
       "      <th>Age</th>\n",
       "      <th>Title</th>\n",
       "      <th>Review Text</th>\n",
       "      <th>Rating</th>\n",
       "      <th>Recommended IND</th>\n",
       "      <th>Positive Feedback Count</th>\n",
       "      <th>Division Name</th>\n",
       "      <th>Department Name</th>\n",
       "      <th>Class Name</th>\n",
       "    </tr>\n",
       "  </thead>\n",
       "  <tbody>\n",
       "    <tr>\n",
       "      <th>0</th>\n",
       "      <td>767</td>\n",
       "      <td>33</td>\n",
       "      <td>NaN</td>\n",
       "      <td>Absolutely wonderful - silky and sexy and comfortable</td>\n",
       "      <td>4</td>\n",
       "      <td>1</td>\n",
       "      <td>0</td>\n",
       "      <td>Initmates</td>\n",
       "      <td>Intimate</td>\n",
       "      <td>Intimates</td>\n",
       "    </tr>\n",
       "    <tr>\n",
       "      <th>1</th>\n",
       "      <td>1080</td>\n",
       "      <td>34</td>\n",
       "      <td>NaN</td>\n",
       "      <td>Love this dress!  it's sooo pretty.  i happened to find it in a store, and i'm glad i did bc i n...</td>\n",
       "      <td>5</td>\n",
       "      <td>1</td>\n",
       "      <td>4</td>\n",
       "      <td>General</td>\n",
       "      <td>Dresses</td>\n",
       "      <td>Dresses</td>\n",
       "    </tr>\n",
       "    <tr>\n",
       "      <th>2</th>\n",
       "      <td>1077</td>\n",
       "      <td>60</td>\n",
       "      <td>Some major design flaws</td>\n",
       "      <td>I had such high hopes for this dress and really wanted it to work for me. i initially ordered th...</td>\n",
       "      <td>3</td>\n",
       "      <td>0</td>\n",
       "      <td>0</td>\n",
       "      <td>General</td>\n",
       "      <td>Dresses</td>\n",
       "      <td>Dresses</td>\n",
       "    </tr>\n",
       "    <tr>\n",
       "      <th>3</th>\n",
       "      <td>1049</td>\n",
       "      <td>50</td>\n",
       "      <td>My favorite buy!</td>\n",
       "      <td>I love, love, love this jumpsuit. it's fun, flirty, and fabulous! every time i wear it, i get no...</td>\n",
       "      <td>5</td>\n",
       "      <td>1</td>\n",
       "      <td>0</td>\n",
       "      <td>General Petite</td>\n",
       "      <td>Bottoms</td>\n",
       "      <td>Pants</td>\n",
       "    </tr>\n",
       "    <tr>\n",
       "      <th>4</th>\n",
       "      <td>847</td>\n",
       "      <td>47</td>\n",
       "      <td>Flattering shirt</td>\n",
       "      <td>This shirt is very flattering to all due to the adjustable front tie. it is the perfect length t...</td>\n",
       "      <td>5</td>\n",
       "      <td>1</td>\n",
       "      <td>6</td>\n",
       "      <td>General</td>\n",
       "      <td>Tops</td>\n",
       "      <td>Blouses</td>\n",
       "    </tr>\n",
       "    <tr>\n",
       "      <th>...</th>\n",
       "      <td>...</td>\n",
       "      <td>...</td>\n",
       "      <td>...</td>\n",
       "      <td>...</td>\n",
       "      <td>...</td>\n",
       "      <td>...</td>\n",
       "      <td>...</td>\n",
       "      <td>...</td>\n",
       "      <td>...</td>\n",
       "      <td>...</td>\n",
       "    </tr>\n",
       "    <tr>\n",
       "      <th>23481</th>\n",
       "      <td>1104</td>\n",
       "      <td>34</td>\n",
       "      <td>Great dress for many occasions</td>\n",
       "      <td>I was very happy to snag this dress at such a great price! it's very easy to slip on and has a v...</td>\n",
       "      <td>5</td>\n",
       "      <td>1</td>\n",
       "      <td>0</td>\n",
       "      <td>General Petite</td>\n",
       "      <td>Dresses</td>\n",
       "      <td>Dresses</td>\n",
       "    </tr>\n",
       "    <tr>\n",
       "      <th>23482</th>\n",
       "      <td>862</td>\n",
       "      <td>48</td>\n",
       "      <td>Wish it was made of cotton</td>\n",
       "      <td>It reminds me of maternity clothes. soft, stretchy, shiny material. cut is flattering and drapes...</td>\n",
       "      <td>3</td>\n",
       "      <td>1</td>\n",
       "      <td>0</td>\n",
       "      <td>General Petite</td>\n",
       "      <td>Tops</td>\n",
       "      <td>Knits</td>\n",
       "    </tr>\n",
       "    <tr>\n",
       "      <th>23483</th>\n",
       "      <td>1104</td>\n",
       "      <td>31</td>\n",
       "      <td>Cute, but see through</td>\n",
       "      <td>This fit well, but the top was very see through. this never would have worked for me. i'm glad i...</td>\n",
       "      <td>3</td>\n",
       "      <td>0</td>\n",
       "      <td>1</td>\n",
       "      <td>General Petite</td>\n",
       "      <td>Dresses</td>\n",
       "      <td>Dresses</td>\n",
       "    </tr>\n",
       "    <tr>\n",
       "      <th>23484</th>\n",
       "      <td>1084</td>\n",
       "      <td>28</td>\n",
       "      <td>Very cute dress, perfect for summer parties and we</td>\n",
       "      <td>I bought this dress for a wedding i have this summer, and it's so cute. unfortunately the fit is...</td>\n",
       "      <td>3</td>\n",
       "      <td>1</td>\n",
       "      <td>2</td>\n",
       "      <td>General</td>\n",
       "      <td>Dresses</td>\n",
       "      <td>Dresses</td>\n",
       "    </tr>\n",
       "    <tr>\n",
       "      <th>23485</th>\n",
       "      <td>1104</td>\n",
       "      <td>52</td>\n",
       "      <td>Please make more like this one!</td>\n",
       "      <td>This dress in a lovely platinum is feminine and fits perfectly, easy to wear and comfy, too! hig...</td>\n",
       "      <td>5</td>\n",
       "      <td>1</td>\n",
       "      <td>22</td>\n",
       "      <td>General Petite</td>\n",
       "      <td>Dresses</td>\n",
       "      <td>Dresses</td>\n",
       "    </tr>\n",
       "  </tbody>\n",
       "</table>\n",
       "<p>22634 rows × 10 columns</p>\n",
       "</div>"
      ],
      "text/plain": [
       "       Clothing ID  Age                                               Title  \\\n",
       "0              767   33                                                 NaN   \n",
       "1             1080   34                                                 NaN   \n",
       "2             1077   60                             Some major design flaws   \n",
       "3             1049   50                                    My favorite buy!   \n",
       "4              847   47                                    Flattering shirt   \n",
       "...            ...  ...                                                 ...   \n",
       "23481         1104   34                      Great dress for many occasions   \n",
       "23482          862   48                          Wish it was made of cotton   \n",
       "23483         1104   31                               Cute, but see through   \n",
       "23484         1084   28  Very cute dress, perfect for summer parties and we   \n",
       "23485         1104   52                     Please make more like this one!   \n",
       "\n",
       "                                                                                               Review Text  \\\n",
       "0                                                    Absolutely wonderful - silky and sexy and comfortable   \n",
       "1      Love this dress!  it's sooo pretty.  i happened to find it in a store, and i'm glad i did bc i n...   \n",
       "2      I had such high hopes for this dress and really wanted it to work for me. i initially ordered th...   \n",
       "3      I love, love, love this jumpsuit. it's fun, flirty, and fabulous! every time i wear it, i get no...   \n",
       "4      This shirt is very flattering to all due to the adjustable front tie. it is the perfect length t...   \n",
       "...                                                                                                    ...   \n",
       "23481  I was very happy to snag this dress at such a great price! it's very easy to slip on and has a v...   \n",
       "23482  It reminds me of maternity clothes. soft, stretchy, shiny material. cut is flattering and drapes...   \n",
       "23483  This fit well, but the top was very see through. this never would have worked for me. i'm glad i...   \n",
       "23484  I bought this dress for a wedding i have this summer, and it's so cute. unfortunately the fit is...   \n",
       "23485  This dress in a lovely platinum is feminine and fits perfectly, easy to wear and comfy, too! hig...   \n",
       "\n",
       "       Rating  Recommended IND  Positive Feedback Count   Division Name  \\\n",
       "0           4                1                        0       Initmates   \n",
       "1           5                1                        4         General   \n",
       "2           3                0                        0         General   \n",
       "3           5                1                        0  General Petite   \n",
       "4           5                1                        6         General   \n",
       "...       ...              ...                      ...             ...   \n",
       "23481       5                1                        0  General Petite   \n",
       "23482       3                1                        0  General Petite   \n",
       "23483       3                0                        1  General Petite   \n",
       "23484       3                1                        2         General   \n",
       "23485       5                1                       22  General Petite   \n",
       "\n",
       "      Department Name Class Name  \n",
       "0            Intimate  Intimates  \n",
       "1             Dresses    Dresses  \n",
       "2             Dresses    Dresses  \n",
       "3             Bottoms      Pants  \n",
       "4                Tops    Blouses  \n",
       "...               ...        ...  \n",
       "23481         Dresses    Dresses  \n",
       "23482            Tops      Knits  \n",
       "23483         Dresses    Dresses  \n",
       "23484         Dresses    Dresses  \n",
       "23485         Dresses    Dresses  \n",
       "\n",
       "[22634 rows x 10 columns]"
      ]
     },
     "execution_count": 177,
     "metadata": {},
     "output_type": "execute_result"
    }
   ],
   "source": [
    "# 'Unnamed: 0' column removed\n",
    "\n",
    "ecommerce_review_data"
   ]
  },
  {
   "cell_type": "markdown",
   "metadata": {
    "id": "ydb18Cur2e6P"
   },
   "source": [
    "### 3. Convert reviews into lower case. (1 mark)"
   ]
  },
  {
   "cell_type": "markdown",
   "metadata": {
    "id": "wwXnRdNzo7a1"
   },
   "source": [
    "Show your code below to convert reviews into lower case.  "
   ]
  },
  {
   "cell_type": "code",
   "execution_count": 178,
   "metadata": {
    "id": "50GHlsol2vFq"
   },
   "outputs": [
    {
     "data": {
      "text/plain": [
       "0                                                      absolutely wonderful - silky and sexy and comfortable\n",
       "1        love this dress!  it's sooo pretty.  i happened to find it in a store, and i'm glad i did bc i n...\n",
       "2        i had such high hopes for this dress and really wanted it to work for me. i initially ordered th...\n",
       "3        i love, love, love this jumpsuit. it's fun, flirty, and fabulous! every time i wear it, i get no...\n",
       "4        this shirt is very flattering to all due to the adjustable front tie. it is the perfect length t...\n",
       "                                                        ...                                                 \n",
       "23481    i was very happy to snag this dress at such a great price! it's very easy to slip on and has a v...\n",
       "23482    it reminds me of maternity clothes. soft, stretchy, shiny material. cut is flattering and drapes...\n",
       "23483    this fit well, but the top was very see through. this never would have worked for me. i'm glad i...\n",
       "23484    i bought this dress for a wedding i have this summer, and it's so cute. unfortunately the fit is...\n",
       "23485    this dress in a lovely platinum is feminine and fits perfectly, easy to wear and comfy, too! hig...\n",
       "Name: Review Text, Length: 22634, dtype: object"
      ]
     },
     "execution_count": 178,
     "metadata": {},
     "output_type": "execute_result"
    }
   ],
   "source": [
    "# code for converting reviews into lower case\n",
    "ecommerce_review_data[\"Review Text\"].apply(lambda x: x.lower())"
   ]
  },
  {
   "cell_type": "code",
   "execution_count": 179,
   "metadata": {},
   "outputs": [],
   "source": [
    "ecommerce_review_data[\"Review Text\"] = ecommerce_review_data[\"Review Text\"].apply(lambda x: x.lower())"
   ]
  },
  {
   "cell_type": "code",
   "execution_count": 180,
   "metadata": {},
   "outputs": [
    {
     "data": {
      "text/html": [
       "<div>\n",
       "<style scoped>\n",
       "    .dataframe tbody tr th:only-of-type {\n",
       "        vertical-align: middle;\n",
       "    }\n",
       "\n",
       "    .dataframe tbody tr th {\n",
       "        vertical-align: top;\n",
       "    }\n",
       "\n",
       "    .dataframe thead th {\n",
       "        text-align: right;\n",
       "    }\n",
       "</style>\n",
       "<table border=\"1\" class=\"dataframe\">\n",
       "  <thead>\n",
       "    <tr style=\"text-align: right;\">\n",
       "      <th></th>\n",
       "      <th>Clothing ID</th>\n",
       "      <th>Age</th>\n",
       "      <th>Title</th>\n",
       "      <th>Review Text</th>\n",
       "      <th>Rating</th>\n",
       "      <th>Recommended IND</th>\n",
       "      <th>Positive Feedback Count</th>\n",
       "      <th>Division Name</th>\n",
       "      <th>Department Name</th>\n",
       "      <th>Class Name</th>\n",
       "    </tr>\n",
       "  </thead>\n",
       "  <tbody>\n",
       "    <tr>\n",
       "      <th>0</th>\n",
       "      <td>767</td>\n",
       "      <td>33</td>\n",
       "      <td>NaN</td>\n",
       "      <td>absolutely wonderful - silky and sexy and comfortable</td>\n",
       "      <td>4</td>\n",
       "      <td>1</td>\n",
       "      <td>0</td>\n",
       "      <td>Initmates</td>\n",
       "      <td>Intimate</td>\n",
       "      <td>Intimates</td>\n",
       "    </tr>\n",
       "    <tr>\n",
       "      <th>1</th>\n",
       "      <td>1080</td>\n",
       "      <td>34</td>\n",
       "      <td>NaN</td>\n",
       "      <td>love this dress!  it's sooo pretty.  i happened to find it in a store, and i'm glad i did bc i n...</td>\n",
       "      <td>5</td>\n",
       "      <td>1</td>\n",
       "      <td>4</td>\n",
       "      <td>General</td>\n",
       "      <td>Dresses</td>\n",
       "      <td>Dresses</td>\n",
       "    </tr>\n",
       "    <tr>\n",
       "      <th>2</th>\n",
       "      <td>1077</td>\n",
       "      <td>60</td>\n",
       "      <td>Some major design flaws</td>\n",
       "      <td>i had such high hopes for this dress and really wanted it to work for me. i initially ordered th...</td>\n",
       "      <td>3</td>\n",
       "      <td>0</td>\n",
       "      <td>0</td>\n",
       "      <td>General</td>\n",
       "      <td>Dresses</td>\n",
       "      <td>Dresses</td>\n",
       "    </tr>\n",
       "    <tr>\n",
       "      <th>3</th>\n",
       "      <td>1049</td>\n",
       "      <td>50</td>\n",
       "      <td>My favorite buy!</td>\n",
       "      <td>i love, love, love this jumpsuit. it's fun, flirty, and fabulous! every time i wear it, i get no...</td>\n",
       "      <td>5</td>\n",
       "      <td>1</td>\n",
       "      <td>0</td>\n",
       "      <td>General Petite</td>\n",
       "      <td>Bottoms</td>\n",
       "      <td>Pants</td>\n",
       "    </tr>\n",
       "    <tr>\n",
       "      <th>4</th>\n",
       "      <td>847</td>\n",
       "      <td>47</td>\n",
       "      <td>Flattering shirt</td>\n",
       "      <td>this shirt is very flattering to all due to the adjustable front tie. it is the perfect length t...</td>\n",
       "      <td>5</td>\n",
       "      <td>1</td>\n",
       "      <td>6</td>\n",
       "      <td>General</td>\n",
       "      <td>Tops</td>\n",
       "      <td>Blouses</td>\n",
       "    </tr>\n",
       "    <tr>\n",
       "      <th>...</th>\n",
       "      <td>...</td>\n",
       "      <td>...</td>\n",
       "      <td>...</td>\n",
       "      <td>...</td>\n",
       "      <td>...</td>\n",
       "      <td>...</td>\n",
       "      <td>...</td>\n",
       "      <td>...</td>\n",
       "      <td>...</td>\n",
       "      <td>...</td>\n",
       "    </tr>\n",
       "    <tr>\n",
       "      <th>23481</th>\n",
       "      <td>1104</td>\n",
       "      <td>34</td>\n",
       "      <td>Great dress for many occasions</td>\n",
       "      <td>i was very happy to snag this dress at such a great price! it's very easy to slip on and has a v...</td>\n",
       "      <td>5</td>\n",
       "      <td>1</td>\n",
       "      <td>0</td>\n",
       "      <td>General Petite</td>\n",
       "      <td>Dresses</td>\n",
       "      <td>Dresses</td>\n",
       "    </tr>\n",
       "    <tr>\n",
       "      <th>23482</th>\n",
       "      <td>862</td>\n",
       "      <td>48</td>\n",
       "      <td>Wish it was made of cotton</td>\n",
       "      <td>it reminds me of maternity clothes. soft, stretchy, shiny material. cut is flattering and drapes...</td>\n",
       "      <td>3</td>\n",
       "      <td>1</td>\n",
       "      <td>0</td>\n",
       "      <td>General Petite</td>\n",
       "      <td>Tops</td>\n",
       "      <td>Knits</td>\n",
       "    </tr>\n",
       "    <tr>\n",
       "      <th>23483</th>\n",
       "      <td>1104</td>\n",
       "      <td>31</td>\n",
       "      <td>Cute, but see through</td>\n",
       "      <td>this fit well, but the top was very see through. this never would have worked for me. i'm glad i...</td>\n",
       "      <td>3</td>\n",
       "      <td>0</td>\n",
       "      <td>1</td>\n",
       "      <td>General Petite</td>\n",
       "      <td>Dresses</td>\n",
       "      <td>Dresses</td>\n",
       "    </tr>\n",
       "    <tr>\n",
       "      <th>23484</th>\n",
       "      <td>1084</td>\n",
       "      <td>28</td>\n",
       "      <td>Very cute dress, perfect for summer parties and we</td>\n",
       "      <td>i bought this dress for a wedding i have this summer, and it's so cute. unfortunately the fit is...</td>\n",
       "      <td>3</td>\n",
       "      <td>1</td>\n",
       "      <td>2</td>\n",
       "      <td>General</td>\n",
       "      <td>Dresses</td>\n",
       "      <td>Dresses</td>\n",
       "    </tr>\n",
       "    <tr>\n",
       "      <th>23485</th>\n",
       "      <td>1104</td>\n",
       "      <td>52</td>\n",
       "      <td>Please make more like this one!</td>\n",
       "      <td>this dress in a lovely platinum is feminine and fits perfectly, easy to wear and comfy, too! hig...</td>\n",
       "      <td>5</td>\n",
       "      <td>1</td>\n",
       "      <td>22</td>\n",
       "      <td>General Petite</td>\n",
       "      <td>Dresses</td>\n",
       "      <td>Dresses</td>\n",
       "    </tr>\n",
       "  </tbody>\n",
       "</table>\n",
       "<p>22634 rows × 10 columns</p>\n",
       "</div>"
      ],
      "text/plain": [
       "       Clothing ID  Age                                               Title  \\\n",
       "0              767   33                                                 NaN   \n",
       "1             1080   34                                                 NaN   \n",
       "2             1077   60                             Some major design flaws   \n",
       "3             1049   50                                    My favorite buy!   \n",
       "4              847   47                                    Flattering shirt   \n",
       "...            ...  ...                                                 ...   \n",
       "23481         1104   34                      Great dress for many occasions   \n",
       "23482          862   48                          Wish it was made of cotton   \n",
       "23483         1104   31                               Cute, but see through   \n",
       "23484         1084   28  Very cute dress, perfect for summer parties and we   \n",
       "23485         1104   52                     Please make more like this one!   \n",
       "\n",
       "                                                                                               Review Text  \\\n",
       "0                                                    absolutely wonderful - silky and sexy and comfortable   \n",
       "1      love this dress!  it's sooo pretty.  i happened to find it in a store, and i'm glad i did bc i n...   \n",
       "2      i had such high hopes for this dress and really wanted it to work for me. i initially ordered th...   \n",
       "3      i love, love, love this jumpsuit. it's fun, flirty, and fabulous! every time i wear it, i get no...   \n",
       "4      this shirt is very flattering to all due to the adjustable front tie. it is the perfect length t...   \n",
       "...                                                                                                    ...   \n",
       "23481  i was very happy to snag this dress at such a great price! it's very easy to slip on and has a v...   \n",
       "23482  it reminds me of maternity clothes. soft, stretchy, shiny material. cut is flattering and drapes...   \n",
       "23483  this fit well, but the top was very see through. this never would have worked for me. i'm glad i...   \n",
       "23484  i bought this dress for a wedding i have this summer, and it's so cute. unfortunately the fit is...   \n",
       "23485  this dress in a lovely platinum is feminine and fits perfectly, easy to wear and comfy, too! hig...   \n",
       "\n",
       "       Rating  Recommended IND  Positive Feedback Count   Division Name  \\\n",
       "0           4                1                        0       Initmates   \n",
       "1           5                1                        4         General   \n",
       "2           3                0                        0         General   \n",
       "3           5                1                        0  General Petite   \n",
       "4           5                1                        6         General   \n",
       "...       ...              ...                      ...             ...   \n",
       "23481       5                1                        0  General Petite   \n",
       "23482       3                1                        0  General Petite   \n",
       "23483       3                0                        1  General Petite   \n",
       "23484       3                1                        2         General   \n",
       "23485       5                1                       22  General Petite   \n",
       "\n",
       "      Department Name Class Name  \n",
       "0            Intimate  Intimates  \n",
       "1             Dresses    Dresses  \n",
       "2             Dresses    Dresses  \n",
       "3             Bottoms      Pants  \n",
       "4                Tops    Blouses  \n",
       "...               ...        ...  \n",
       "23481         Dresses    Dresses  \n",
       "23482            Tops      Knits  \n",
       "23483         Dresses    Dresses  \n",
       "23484         Dresses    Dresses  \n",
       "23485         Dresses    Dresses  \n",
       "\n",
       "[22634 rows x 10 columns]"
      ]
     },
     "execution_count": 180,
     "metadata": {},
     "output_type": "execute_result"
    }
   ],
   "source": [
    "ecommerce_review_data"
   ]
  },
  {
   "cell_type": "code",
   "execution_count": 181,
   "metadata": {},
   "outputs": [
    {
     "data": {
      "text/html": [
       "<div>\n",
       "<style scoped>\n",
       "    .dataframe tbody tr th:only-of-type {\n",
       "        vertical-align: middle;\n",
       "    }\n",
       "\n",
       "    .dataframe tbody tr th {\n",
       "        vertical-align: top;\n",
       "    }\n",
       "\n",
       "    .dataframe thead th {\n",
       "        text-align: right;\n",
       "    }\n",
       "</style>\n",
       "<table border=\"1\" class=\"dataframe\">\n",
       "  <thead>\n",
       "    <tr style=\"text-align: right;\">\n",
       "      <th></th>\n",
       "      <th>Review Text</th>\n",
       "    </tr>\n",
       "  </thead>\n",
       "  <tbody>\n",
       "    <tr>\n",
       "      <th>0</th>\n",
       "      <td>absolutely wonderful - silky and sexy and comfortable</td>\n",
       "    </tr>\n",
       "    <tr>\n",
       "      <th>1</th>\n",
       "      <td>love this dress!  it's sooo pretty.  i happened to find it in a store, and i'm glad i did bc i n...</td>\n",
       "    </tr>\n",
       "    <tr>\n",
       "      <th>2</th>\n",
       "      <td>i had such high hopes for this dress and really wanted it to work for me. i initially ordered th...</td>\n",
       "    </tr>\n",
       "    <tr>\n",
       "      <th>3</th>\n",
       "      <td>i love, love, love this jumpsuit. it's fun, flirty, and fabulous! every time i wear it, i get no...</td>\n",
       "    </tr>\n",
       "    <tr>\n",
       "      <th>4</th>\n",
       "      <td>this shirt is very flattering to all due to the adjustable front tie. it is the perfect length t...</td>\n",
       "    </tr>\n",
       "    <tr>\n",
       "      <th>...</th>\n",
       "      <td>...</td>\n",
       "    </tr>\n",
       "    <tr>\n",
       "      <th>23481</th>\n",
       "      <td>i was very happy to snag this dress at such a great price! it's very easy to slip on and has a v...</td>\n",
       "    </tr>\n",
       "    <tr>\n",
       "      <th>23482</th>\n",
       "      <td>it reminds me of maternity clothes. soft, stretchy, shiny material. cut is flattering and drapes...</td>\n",
       "    </tr>\n",
       "    <tr>\n",
       "      <th>23483</th>\n",
       "      <td>this fit well, but the top was very see through. this never would have worked for me. i'm glad i...</td>\n",
       "    </tr>\n",
       "    <tr>\n",
       "      <th>23484</th>\n",
       "      <td>i bought this dress for a wedding i have this summer, and it's so cute. unfortunately the fit is...</td>\n",
       "    </tr>\n",
       "    <tr>\n",
       "      <th>23485</th>\n",
       "      <td>this dress in a lovely platinum is feminine and fits perfectly, easy to wear and comfy, too! hig...</td>\n",
       "    </tr>\n",
       "  </tbody>\n",
       "</table>\n",
       "<p>22634 rows × 1 columns</p>\n",
       "</div>"
      ],
      "text/plain": [
       "                                                                                               Review Text\n",
       "0                                                    absolutely wonderful - silky and sexy and comfortable\n",
       "1      love this dress!  it's sooo pretty.  i happened to find it in a store, and i'm glad i did bc i n...\n",
       "2      i had such high hopes for this dress and really wanted it to work for me. i initially ordered th...\n",
       "3      i love, love, love this jumpsuit. it's fun, flirty, and fabulous! every time i wear it, i get no...\n",
       "4      this shirt is very flattering to all due to the adjustable front tie. it is the perfect length t...\n",
       "...                                                                                                    ...\n",
       "23481  i was very happy to snag this dress at such a great price! it's very easy to slip on and has a v...\n",
       "23482  it reminds me of maternity clothes. soft, stretchy, shiny material. cut is flattering and drapes...\n",
       "23483  this fit well, but the top was very see through. this never would have worked for me. i'm glad i...\n",
       "23484  i bought this dress for a wedding i have this summer, and it's so cute. unfortunately the fit is...\n",
       "23485  this dress in a lovely platinum is feminine and fits perfectly, easy to wear and comfy, too! hig...\n",
       "\n",
       "[22634 rows x 1 columns]"
      ]
     },
     "execution_count": 181,
     "metadata": {},
     "output_type": "execute_result"
    }
   ],
   "source": [
    "reviews = ecommerce_review_data[[\"Review Text\"]]\n",
    "reviews"
   ]
  },
  {
   "cell_type": "markdown",
   "metadata": {
    "id": "SGsYmQcj2zj1"
   },
   "source": [
    "### 4. Replace substring using regex. (2 marks)   \n",
    "\n"
   ]
  },
  {
   "cell_type": "markdown",
   "metadata": {
    "id": "LVm6gh44o-A7"
   },
   "source": [
    "\n",
    "As a data analyst, you look into your dataset diligently and found a substring <font color = 'blue'>*‘\\&#39;’*</font> appears in between words like it<font color = 'blue'>*\\&#39;*</font>s (it's), i<font color = 'blue'>*\\&#39;*</font>ll (i'll), don<font color = 'blue'>*\\&#39;*</font>t (don't) etc.  \n",
    "\n",
    "You googled online and found that <font color = 'blue'>*‘\\&#39;’*</font> is the HTML character coding for <font color = 'blue'>apostrophe ‘</font>, and you want to replace <font color = 'blue'>*‘\\&#39;’*</font> with <font color = 'blue'>apostrophe ‘</font> for better readability."
   ]
  },
  {
   "cell_type": "code",
   "execution_count": 182,
   "metadata": {
    "id": "x9k1sLFm2Zw1"
   },
   "outputs": [
    {
     "name": "stdout",
     "output_type": "stream",
     "text": [
      "                                                                                               Review Text\n",
      "33     i ordered this 3 months ago, and it finally came off back order. a huge disappointment. the fit ...\n",
      "397    great fit! no bagging and sagging and they fit true to size. very cute! for reference, i&#39;m 5...\n",
      "842    you guys, i love this so much! however, within one hour of wearing it, the back seam completely ...\n",
      "926    layered this with a chunky sweater and a pair of kicks. it can be low key or dressed up with a p...\n",
      "1503   beautiful dress with the colors and pleats. i did not have the same problems with the bust area ...\n",
      "1613   i&#39;ve been looking for comfortable pants that i could wear to work and at home.  these fit th...\n",
      "2743   i got this jacket after being inspired by the looks from stranger things, and love that the fuzz...\n",
      "2754   i bought this dress to wear for our upcoming family pictures. i don&#39;t think the image does t...\n",
      "3379   i love this top! the arms fit slender but the rest of the top is a nice loose fit. i love the na...\n",
      "4568   this item states you should wash in cold water and tumble dry low heat. it shrunk after first wa...\n",
      "4608   i was so curious to see this skirt. it looks just like pic. really gorgeous bold pattern and a f...\n",
      "5935   i almost never buy full price but i did with this skirt.  it is adorable! saw it in the store.  ...\n",
      "6443   i tried this dress in an xs (my usual size) and it is tts. i love the fabric and pattern and the...\n",
      "6817   i tried on the pink in xs in store. it was so big on me. i wanted to love it, the stylist did, b...\n",
      "7039   i&#39;m 5&#39;3&quot; 118 lbs and the 26 navy fit great.  the gray i can hardly button and are l...\n",
      "7109   i can always count on retailer to sell unique pieces, so when i saw this sweatshirt online, i or...\n",
      "7318   i bought this impulsively to wear to a wedding, and i&#39;m so glad i did. it is so soft and com...\n",
      "7394   i debated getting this dress for over a month and finally purchased it on retailer member day fo...\n",
      "8174   love this skirt - it looks precisely as the photo depicts. the metallic stitching may be a littl...\n",
      "8323   honestly, the sweater is really beautiful...i usually buy a small in retailer tops, and this see...\n",
      "9754   love this sweater!  lightweight, comfy and does run large.   i usually wear a size 12 or l/xl in...\n",
      "11147  i ordered this dress online in 8 p in the orange color. the length was perfect but the dress see...\n",
      "11694  these pants are great, as is the case with most c of h jeans.  they are a perfect length if you ...\n",
      "12240  the collar from a distance looks like it has seen better days (very scruffy), but it is so silky...\n",
      "13159  i bought this jacket recently and i actually had been watching it in my retailer. store, but, th...\n",
      "13832  i was so excited for this dress to come. i am 5&#39;1&quot; and 100lbs so i ordered and xs petit...\n",
      "13839  i&#39;ve been eyeing this dress for weeks. finally i took the plunge and bought it! the velvet i...\n",
      "14084  ordered online, hedging my bets on size (chose xs/s) because i have broad shoulders and muscular...\n",
      "14489  i am 5&#39;4, 125-130lbs, c34 bust. i ordered this dress for a wedding in size 2 and it was too ...\n",
      "15062  received this yesterday, wearing it today and am happy.  it&#39;s warm and cozy - perfect blend ...\n",
      "15934  beautiful top runs true to size. i&#39;m in between an xs &amp; small and went with the xs. it f...\n",
      "16358  i am a petite size 10 and 5&#39;1&quot;     i love the fabric and style of the dress, but found ...\n",
      "16503  i have no idea why this has bad reviews! how is there any left?! this is a beautiful piece that ...\n",
      "16873  this is the rare metallic that doesn&#39;t itch - really well made (italy) - lightweight - it&#3...\n",
      "18388  i ordered this because i can&#39;t resist denim shirts.  i love the unusual shape for a tank top...\n",
      "18995  this is a truly beautiful dress, and yes, so much better in person.  upon examining the dress, h...\n",
      "19739  i&#39;m taller (5&#39;8), so it&#39;s not uncommon for things to be too short on me, but this wa...\n",
      "21240  fits nicely and made with high-quality material. it definitely makes you look very put together ...\n",
      "22437  i bought this shirt after reading so many positive reviews. it looks much thinner and cheaper th...\n",
      "23147  like the other reviewer said it&#39;s hard to get on and i had to size down like i often do at r...\n"
     ]
    }
   ],
   "source": [
    "print(reviews[reviews['Review Text'].str.contains('&#39;')])"
   ]
  },
  {
   "cell_type": "markdown",
   "metadata": {
    "id": "kGqkJyE9sXh2"
   },
   "source": [
    "Show your code below using regex to replace <font color = 'blue'>*\\&#39;*</font> with <font color = 'blue'>apostrophe ‘</font> in all the reviews."
   ]
  },
  {
   "cell_type": "code",
   "execution_count": 183,
   "metadata": {
    "id": "Sfjey8ubu-np"
   },
   "outputs": [],
   "source": [
    "# code for replacing ‘&#39;’ with apostrophe ‘.\n",
    "processed_review_data_without_new_line_dataframe: pd.DataFrame = reviews[reviews['Review Text'].str.contains('&#39;')].apply(lambda x: x.str.replace('&#39;', '\\''))"
   ]
  },
  {
   "cell_type": "code",
   "execution_count": 184,
   "metadata": {},
   "outputs": [
    {
     "data": {
      "text/html": [
       "<div>\n",
       "<style scoped>\n",
       "    .dataframe tbody tr th:only-of-type {\n",
       "        vertical-align: middle;\n",
       "    }\n",
       "\n",
       "    .dataframe tbody tr th {\n",
       "        vertical-align: top;\n",
       "    }\n",
       "\n",
       "    .dataframe thead th {\n",
       "        text-align: right;\n",
       "    }\n",
       "</style>\n",
       "<table border=\"1\" class=\"dataframe\">\n",
       "  <thead>\n",
       "    <tr style=\"text-align: right;\">\n",
       "      <th></th>\n",
       "      <th>Review Text</th>\n",
       "    </tr>\n",
       "  </thead>\n",
       "  <tbody>\n",
       "    <tr>\n",
       "      <th>33</th>\n",
       "      <td>i ordered this 3 months ago, and it finally came off back order. a huge disappointment. the fit ...</td>\n",
       "    </tr>\n",
       "    <tr>\n",
       "      <th>397</th>\n",
       "      <td>great fit! no bagging and sagging and they fit true to size. very cute! for reference, i'm 5'2, ...</td>\n",
       "    </tr>\n",
       "    <tr>\n",
       "      <th>842</th>\n",
       "      <td>you guys, i love this so much! however, within one hour of wearing it, the back seam completely ...</td>\n",
       "    </tr>\n",
       "    <tr>\n",
       "      <th>926</th>\n",
       "      <td>layered this with a chunky sweater and a pair of kicks. it can be low key or dressed up with a p...</td>\n",
       "    </tr>\n",
       "    <tr>\n",
       "      <th>1503</th>\n",
       "      <td>beautiful dress with the colors and pleats. i did not have the same problems with the bust area ...</td>\n",
       "    </tr>\n",
       "    <tr>\n",
       "      <th>1613</th>\n",
       "      <td>i've been looking for comfortable pants that i could wear to work and at home.  these fit the bi...</td>\n",
       "    </tr>\n",
       "    <tr>\n",
       "      <th>2743</th>\n",
       "      <td>i got this jacket after being inspired by the looks from stranger things, and love that the fuzz...</td>\n",
       "    </tr>\n",
       "    <tr>\n",
       "      <th>2754</th>\n",
       "      <td>i bought this dress to wear for our upcoming family pictures. i don't think the image does the d...</td>\n",
       "    </tr>\n",
       "    <tr>\n",
       "      <th>3379</th>\n",
       "      <td>i love this top! the arms fit slender but the rest of the top is a nice loose fit. i love the na...</td>\n",
       "    </tr>\n",
       "    <tr>\n",
       "      <th>4568</th>\n",
       "      <td>this item states you should wash in cold water and tumble dry low heat. it shrunk after first wa...</td>\n",
       "    </tr>\n",
       "    <tr>\n",
       "      <th>4608</th>\n",
       "      <td>i was so curious to see this skirt. it looks just like pic. really gorgeous bold pattern and a f...</td>\n",
       "    </tr>\n",
       "    <tr>\n",
       "      <th>5935</th>\n",
       "      <td>i almost never buy full price but i did with this skirt.  it is adorable! saw it in the store.  ...</td>\n",
       "    </tr>\n",
       "    <tr>\n",
       "      <th>6443</th>\n",
       "      <td>i tried this dress in an xs (my usual size) and it is tts. i love the fabric and pattern and the...</td>\n",
       "    </tr>\n",
       "    <tr>\n",
       "      <th>6817</th>\n",
       "      <td>i tried on the pink in xs in store. it was so big on me. i wanted to love it, the stylist did, b...</td>\n",
       "    </tr>\n",
       "    <tr>\n",
       "      <th>7039</th>\n",
       "      <td>i'm 5'3&amp;quot; 118 lbs and the 26 navy fit great.  the gray i can hardly button and are less flat...</td>\n",
       "    </tr>\n",
       "    <tr>\n",
       "      <th>7109</th>\n",
       "      <td>i can always count on retailer to sell unique pieces, so when i saw this sweatshirt online, i or...</td>\n",
       "    </tr>\n",
       "    <tr>\n",
       "      <th>7318</th>\n",
       "      <td>i bought this impulsively to wear to a wedding, and i'm so glad i did. it is so soft and comfy a...</td>\n",
       "    </tr>\n",
       "    <tr>\n",
       "      <th>7394</th>\n",
       "      <td>i debated getting this dress for over a month and finally purchased it on retailer member day fo...</td>\n",
       "    </tr>\n",
       "    <tr>\n",
       "      <th>8174</th>\n",
       "      <td>love this skirt - it looks precisely as the photo depicts. the metallic stitching may be a littl...</td>\n",
       "    </tr>\n",
       "    <tr>\n",
       "      <th>8323</th>\n",
       "      <td>honestly, the sweater is really beautiful...i usually buy a small in retailer tops, and this see...</td>\n",
       "    </tr>\n",
       "    <tr>\n",
       "      <th>9754</th>\n",
       "      <td>love this sweater!  lightweight, comfy and does run large.   i usually wear a size 12 or l/xl in...</td>\n",
       "    </tr>\n",
       "    <tr>\n",
       "      <th>11147</th>\n",
       "      <td>i ordered this dress online in 8 p in the orange color. the length was perfect but the dress see...</td>\n",
       "    </tr>\n",
       "    <tr>\n",
       "      <th>11694</th>\n",
       "      <td>these pants are great, as is the case with most c of h jeans.  they are a perfect length if you ...</td>\n",
       "    </tr>\n",
       "    <tr>\n",
       "      <th>12240</th>\n",
       "      <td>the collar from a distance looks like it has seen better days (very scruffy), but it is so silky...</td>\n",
       "    </tr>\n",
       "    <tr>\n",
       "      <th>13159</th>\n",
       "      <td>i bought this jacket recently and i actually had been watching it in my retailer. store, but, th...</td>\n",
       "    </tr>\n",
       "    <tr>\n",
       "      <th>13832</th>\n",
       "      <td>i was so excited for this dress to come. i am 5'1&amp;quot; and 100lbs so i ordered and xs petite. i...</td>\n",
       "    </tr>\n",
       "    <tr>\n",
       "      <th>13839</th>\n",
       "      <td>i've been eyeing this dress for weeks. finally i took the plunge and bought it! the velvet is go...</td>\n",
       "    </tr>\n",
       "    <tr>\n",
       "      <th>14084</th>\n",
       "      <td>ordered online, hedging my bets on size (chose xs/s) because i have broad shoulders and muscular...</td>\n",
       "    </tr>\n",
       "    <tr>\n",
       "      <th>14489</th>\n",
       "      <td>i am 5'4, 125-130lbs, c34 bust. i ordered this dress for a wedding in size 2 and it was too big!...</td>\n",
       "    </tr>\n",
       "    <tr>\n",
       "      <th>15062</th>\n",
       "      <td>received this yesterday, wearing it today and am happy.  it's warm and cozy - perfect blend of s...</td>\n",
       "    </tr>\n",
       "    <tr>\n",
       "      <th>15934</th>\n",
       "      <td>beautiful top runs true to size. i'm in between an xs &amp;amp; small and went with the xs. it fit g...</td>\n",
       "    </tr>\n",
       "    <tr>\n",
       "      <th>16358</th>\n",
       "      <td>i am a petite size 10 and 5'1&amp;quot;     i love the fabric and style of the dress, but found it t...</td>\n",
       "    </tr>\n",
       "    <tr>\n",
       "      <th>16503</th>\n",
       "      <td>i have no idea why this has bad reviews! how is there any left?! this is a beautiful piece that ...</td>\n",
       "    </tr>\n",
       "    <tr>\n",
       "      <th>16873</th>\n",
       "      <td>this is the rare metallic that doesn't itch - really well made (italy) - lightweight - it's a to...</td>\n",
       "    </tr>\n",
       "    <tr>\n",
       "      <th>18388</th>\n",
       "      <td>i ordered this because i can't resist denim shirts.  i love the unusual shape for a tank top and...</td>\n",
       "    </tr>\n",
       "    <tr>\n",
       "      <th>18995</th>\n",
       "      <td>this is a truly beautiful dress, and yes, so much better in person.  upon examining the dress, h...</td>\n",
       "    </tr>\n",
       "    <tr>\n",
       "      <th>19739</th>\n",
       "      <td>i'm taller (5'8), so it's not uncommon for things to be too short on me, but this was really sho...</td>\n",
       "    </tr>\n",
       "    <tr>\n",
       "      <th>21240</th>\n",
       "      <td>fits nicely and made with high-quality material. it definitely makes you look very put together ...</td>\n",
       "    </tr>\n",
       "    <tr>\n",
       "      <th>22437</th>\n",
       "      <td>i bought this shirt after reading so many positive reviews. it looks much thinner and cheaper th...</td>\n",
       "    </tr>\n",
       "    <tr>\n",
       "      <th>23147</th>\n",
       "      <td>like the other reviewer said it's hard to get on and i had to size down like i often do at retai...</td>\n",
       "    </tr>\n",
       "  </tbody>\n",
       "</table>\n",
       "</div>"
      ],
      "text/plain": [
       "                                                                                               Review Text\n",
       "33     i ordered this 3 months ago, and it finally came off back order. a huge disappointment. the fit ...\n",
       "397    great fit! no bagging and sagging and they fit true to size. very cute! for reference, i'm 5'2, ...\n",
       "842    you guys, i love this so much! however, within one hour of wearing it, the back seam completely ...\n",
       "926    layered this with a chunky sweater and a pair of kicks. it can be low key or dressed up with a p...\n",
       "1503   beautiful dress with the colors and pleats. i did not have the same problems with the bust area ...\n",
       "1613   i've been looking for comfortable pants that i could wear to work and at home.  these fit the bi...\n",
       "2743   i got this jacket after being inspired by the looks from stranger things, and love that the fuzz...\n",
       "2754   i bought this dress to wear for our upcoming family pictures. i don't think the image does the d...\n",
       "3379   i love this top! the arms fit slender but the rest of the top is a nice loose fit. i love the na...\n",
       "4568   this item states you should wash in cold water and tumble dry low heat. it shrunk after first wa...\n",
       "4608   i was so curious to see this skirt. it looks just like pic. really gorgeous bold pattern and a f...\n",
       "5935   i almost never buy full price but i did with this skirt.  it is adorable! saw it in the store.  ...\n",
       "6443   i tried this dress in an xs (my usual size) and it is tts. i love the fabric and pattern and the...\n",
       "6817   i tried on the pink in xs in store. it was so big on me. i wanted to love it, the stylist did, b...\n",
       "7039   i'm 5'3&quot; 118 lbs and the 26 navy fit great.  the gray i can hardly button and are less flat...\n",
       "7109   i can always count on retailer to sell unique pieces, so when i saw this sweatshirt online, i or...\n",
       "7318   i bought this impulsively to wear to a wedding, and i'm so glad i did. it is so soft and comfy a...\n",
       "7394   i debated getting this dress for over a month and finally purchased it on retailer member day fo...\n",
       "8174   love this skirt - it looks precisely as the photo depicts. the metallic stitching may be a littl...\n",
       "8323   honestly, the sweater is really beautiful...i usually buy a small in retailer tops, and this see...\n",
       "9754   love this sweater!  lightweight, comfy and does run large.   i usually wear a size 12 or l/xl in...\n",
       "11147  i ordered this dress online in 8 p in the orange color. the length was perfect but the dress see...\n",
       "11694  these pants are great, as is the case with most c of h jeans.  they are a perfect length if you ...\n",
       "12240  the collar from a distance looks like it has seen better days (very scruffy), but it is so silky...\n",
       "13159  i bought this jacket recently and i actually had been watching it in my retailer. store, but, th...\n",
       "13832  i was so excited for this dress to come. i am 5'1&quot; and 100lbs so i ordered and xs petite. i...\n",
       "13839  i've been eyeing this dress for weeks. finally i took the plunge and bought it! the velvet is go...\n",
       "14084  ordered online, hedging my bets on size (chose xs/s) because i have broad shoulders and muscular...\n",
       "14489  i am 5'4, 125-130lbs, c34 bust. i ordered this dress for a wedding in size 2 and it was too big!...\n",
       "15062  received this yesterday, wearing it today and am happy.  it's warm and cozy - perfect blend of s...\n",
       "15934  beautiful top runs true to size. i'm in between an xs &amp; small and went with the xs. it fit g...\n",
       "16358  i am a petite size 10 and 5'1&quot;     i love the fabric and style of the dress, but found it t...\n",
       "16503  i have no idea why this has bad reviews! how is there any left?! this is a beautiful piece that ...\n",
       "16873  this is the rare metallic that doesn't itch - really well made (italy) - lightweight - it's a to...\n",
       "18388  i ordered this because i can't resist denim shirts.  i love the unusual shape for a tank top and...\n",
       "18995  this is a truly beautiful dress, and yes, so much better in person.  upon examining the dress, h...\n",
       "19739  i'm taller (5'8), so it's not uncommon for things to be too short on me, but this was really sho...\n",
       "21240  fits nicely and made with high-quality material. it definitely makes you look very put together ...\n",
       "22437  i bought this shirt after reading so many positive reviews. it looks much thinner and cheaper th...\n",
       "23147  like the other reviewer said it's hard to get on and i had to size down like i often do at retai..."
      ]
     },
     "execution_count": 184,
     "metadata": {},
     "output_type": "execute_result"
    }
   ],
   "source": [
    "processed_review_data_without_new_line_dataframe"
   ]
  },
  {
   "cell_type": "code",
   "execution_count": 185,
   "metadata": {},
   "outputs": [
    {
     "data": {
      "text/plain": [
       "0                                                      absolutely wonderful - silky and sexy and comfortable\n",
       "1        love this dress!  it's sooo pretty.  i happened to find it in a store, and i'm glad i did bc i n...\n",
       "2        i had such high hopes for this dress and really wanted it to work for me. i initially ordered th...\n",
       "3        i love, love, love this jumpsuit. it's fun, flirty, and fabulous! every time i wear it, i get no...\n",
       "4        this shirt is very flattering to all due to the adjustable front tie. it is the perfect length t...\n",
       "                                                        ...                                                 \n",
       "23481    i was very happy to snag this dress at such a great price! it's very easy to slip on and has a v...\n",
       "23482    it reminds me of maternity clothes. soft, stretchy, shiny material. cut is flattering and drapes...\n",
       "23483    this fit well, but the top was very see through. this never would have worked for me. i'm glad i...\n",
       "23484    i bought this dress for a wedding i have this summer, and it's so cute. unfortunately the fit is...\n",
       "23485    this dress in a lovely platinum is feminine and fits perfectly, easy to wear and comfy, too! hig...\n",
       "Name: Review Text, Length: 22634, dtype: object"
      ]
     },
     "execution_count": 185,
     "metadata": {},
     "output_type": "execute_result"
    }
   ],
   "source": [
    "reviews[\"Review Text\"]"
   ]
  },
  {
   "cell_type": "code",
   "execution_count": 186,
   "metadata": {},
   "outputs": [
    {
     "name": "stderr",
     "output_type": "stream",
     "text": [
      "/tmp/ipykernel_619/1385314298.py:2: SettingWithCopyWarning: \n",
      "A value is trying to be set on a copy of a slice from a DataFrame\n",
      "\n",
      "See the caveats in the documentation: https://pandas.pydata.org/pandas-docs/stable/user_guide/indexing.html#returning-a-view-versus-a-copy\n",
      "  reviews.loc[index, \"Review Text\"] = data[\"Review Text\"]\n"
     ]
    }
   ],
   "source": [
    "for index, data in processed_review_data_without_new_line_dataframe.iterrows():\n",
    "    reviews.loc[index, \"Review Text\"] = data[\"Review Text\"]"
   ]
  },
  {
   "cell_type": "code",
   "execution_count": 187,
   "metadata": {},
   "outputs": [
    {
     "data": {
      "text/html": [
       "<div>\n",
       "<style scoped>\n",
       "    .dataframe tbody tr th:only-of-type {\n",
       "        vertical-align: middle;\n",
       "    }\n",
       "\n",
       "    .dataframe tbody tr th {\n",
       "        vertical-align: top;\n",
       "    }\n",
       "\n",
       "    .dataframe thead th {\n",
       "        text-align: right;\n",
       "    }\n",
       "</style>\n",
       "<table border=\"1\" class=\"dataframe\">\n",
       "  <thead>\n",
       "    <tr style=\"text-align: right;\">\n",
       "      <th></th>\n",
       "      <th>Clothing ID</th>\n",
       "      <th>Age</th>\n",
       "      <th>Title</th>\n",
       "      <th>Review Text</th>\n",
       "      <th>Rating</th>\n",
       "      <th>Recommended IND</th>\n",
       "      <th>Positive Feedback Count</th>\n",
       "      <th>Division Name</th>\n",
       "      <th>Department Name</th>\n",
       "      <th>Class Name</th>\n",
       "    </tr>\n",
       "  </thead>\n",
       "  <tbody>\n",
       "    <tr>\n",
       "      <th>0</th>\n",
       "      <td>767</td>\n",
       "      <td>33</td>\n",
       "      <td>NaN</td>\n",
       "      <td>absolutely wonderful - silky and sexy and comfortable</td>\n",
       "      <td>4</td>\n",
       "      <td>1</td>\n",
       "      <td>0</td>\n",
       "      <td>Initmates</td>\n",
       "      <td>Intimate</td>\n",
       "      <td>Intimates</td>\n",
       "    </tr>\n",
       "    <tr>\n",
       "      <th>1</th>\n",
       "      <td>1080</td>\n",
       "      <td>34</td>\n",
       "      <td>NaN</td>\n",
       "      <td>love this dress!  it's sooo pretty.  i happened to find it in a store, and i'm glad i did bc i n...</td>\n",
       "      <td>5</td>\n",
       "      <td>1</td>\n",
       "      <td>4</td>\n",
       "      <td>General</td>\n",
       "      <td>Dresses</td>\n",
       "      <td>Dresses</td>\n",
       "    </tr>\n",
       "    <tr>\n",
       "      <th>2</th>\n",
       "      <td>1077</td>\n",
       "      <td>60</td>\n",
       "      <td>Some major design flaws</td>\n",
       "      <td>i had such high hopes for this dress and really wanted it to work for me. i initially ordered th...</td>\n",
       "      <td>3</td>\n",
       "      <td>0</td>\n",
       "      <td>0</td>\n",
       "      <td>General</td>\n",
       "      <td>Dresses</td>\n",
       "      <td>Dresses</td>\n",
       "    </tr>\n",
       "    <tr>\n",
       "      <th>3</th>\n",
       "      <td>1049</td>\n",
       "      <td>50</td>\n",
       "      <td>My favorite buy!</td>\n",
       "      <td>i love, love, love this jumpsuit. it's fun, flirty, and fabulous! every time i wear it, i get no...</td>\n",
       "      <td>5</td>\n",
       "      <td>1</td>\n",
       "      <td>0</td>\n",
       "      <td>General Petite</td>\n",
       "      <td>Bottoms</td>\n",
       "      <td>Pants</td>\n",
       "    </tr>\n",
       "    <tr>\n",
       "      <th>4</th>\n",
       "      <td>847</td>\n",
       "      <td>47</td>\n",
       "      <td>Flattering shirt</td>\n",
       "      <td>this shirt is very flattering to all due to the adjustable front tie. it is the perfect length t...</td>\n",
       "      <td>5</td>\n",
       "      <td>1</td>\n",
       "      <td>6</td>\n",
       "      <td>General</td>\n",
       "      <td>Tops</td>\n",
       "      <td>Blouses</td>\n",
       "    </tr>\n",
       "    <tr>\n",
       "      <th>...</th>\n",
       "      <td>...</td>\n",
       "      <td>...</td>\n",
       "      <td>...</td>\n",
       "      <td>...</td>\n",
       "      <td>...</td>\n",
       "      <td>...</td>\n",
       "      <td>...</td>\n",
       "      <td>...</td>\n",
       "      <td>...</td>\n",
       "      <td>...</td>\n",
       "    </tr>\n",
       "    <tr>\n",
       "      <th>23481</th>\n",
       "      <td>1104</td>\n",
       "      <td>34</td>\n",
       "      <td>Great dress for many occasions</td>\n",
       "      <td>i was very happy to snag this dress at such a great price! it's very easy to slip on and has a v...</td>\n",
       "      <td>5</td>\n",
       "      <td>1</td>\n",
       "      <td>0</td>\n",
       "      <td>General Petite</td>\n",
       "      <td>Dresses</td>\n",
       "      <td>Dresses</td>\n",
       "    </tr>\n",
       "    <tr>\n",
       "      <th>23482</th>\n",
       "      <td>862</td>\n",
       "      <td>48</td>\n",
       "      <td>Wish it was made of cotton</td>\n",
       "      <td>it reminds me of maternity clothes. soft, stretchy, shiny material. cut is flattering and drapes...</td>\n",
       "      <td>3</td>\n",
       "      <td>1</td>\n",
       "      <td>0</td>\n",
       "      <td>General Petite</td>\n",
       "      <td>Tops</td>\n",
       "      <td>Knits</td>\n",
       "    </tr>\n",
       "    <tr>\n",
       "      <th>23483</th>\n",
       "      <td>1104</td>\n",
       "      <td>31</td>\n",
       "      <td>Cute, but see through</td>\n",
       "      <td>this fit well, but the top was very see through. this never would have worked for me. i'm glad i...</td>\n",
       "      <td>3</td>\n",
       "      <td>0</td>\n",
       "      <td>1</td>\n",
       "      <td>General Petite</td>\n",
       "      <td>Dresses</td>\n",
       "      <td>Dresses</td>\n",
       "    </tr>\n",
       "    <tr>\n",
       "      <th>23484</th>\n",
       "      <td>1084</td>\n",
       "      <td>28</td>\n",
       "      <td>Very cute dress, perfect for summer parties and we</td>\n",
       "      <td>i bought this dress for a wedding i have this summer, and it's so cute. unfortunately the fit is...</td>\n",
       "      <td>3</td>\n",
       "      <td>1</td>\n",
       "      <td>2</td>\n",
       "      <td>General</td>\n",
       "      <td>Dresses</td>\n",
       "      <td>Dresses</td>\n",
       "    </tr>\n",
       "    <tr>\n",
       "      <th>23485</th>\n",
       "      <td>1104</td>\n",
       "      <td>52</td>\n",
       "      <td>Please make more like this one!</td>\n",
       "      <td>this dress in a lovely platinum is feminine and fits perfectly, easy to wear and comfy, too! hig...</td>\n",
       "      <td>5</td>\n",
       "      <td>1</td>\n",
       "      <td>22</td>\n",
       "      <td>General Petite</td>\n",
       "      <td>Dresses</td>\n",
       "      <td>Dresses</td>\n",
       "    </tr>\n",
       "  </tbody>\n",
       "</table>\n",
       "<p>22634 rows × 10 columns</p>\n",
       "</div>"
      ],
      "text/plain": [
       "       Clothing ID  Age                                               Title  \\\n",
       "0              767   33                                                 NaN   \n",
       "1             1080   34                                                 NaN   \n",
       "2             1077   60                             Some major design flaws   \n",
       "3             1049   50                                    My favorite buy!   \n",
       "4              847   47                                    Flattering shirt   \n",
       "...            ...  ...                                                 ...   \n",
       "23481         1104   34                      Great dress for many occasions   \n",
       "23482          862   48                          Wish it was made of cotton   \n",
       "23483         1104   31                               Cute, but see through   \n",
       "23484         1084   28  Very cute dress, perfect for summer parties and we   \n",
       "23485         1104   52                     Please make more like this one!   \n",
       "\n",
       "                                                                                               Review Text  \\\n",
       "0                                                    absolutely wonderful - silky and sexy and comfortable   \n",
       "1      love this dress!  it's sooo pretty.  i happened to find it in a store, and i'm glad i did bc i n...   \n",
       "2      i had such high hopes for this dress and really wanted it to work for me. i initially ordered th...   \n",
       "3      i love, love, love this jumpsuit. it's fun, flirty, and fabulous! every time i wear it, i get no...   \n",
       "4      this shirt is very flattering to all due to the adjustable front tie. it is the perfect length t...   \n",
       "...                                                                                                    ...   \n",
       "23481  i was very happy to snag this dress at such a great price! it's very easy to slip on and has a v...   \n",
       "23482  it reminds me of maternity clothes. soft, stretchy, shiny material. cut is flattering and drapes...   \n",
       "23483  this fit well, but the top was very see through. this never would have worked for me. i'm glad i...   \n",
       "23484  i bought this dress for a wedding i have this summer, and it's so cute. unfortunately the fit is...   \n",
       "23485  this dress in a lovely platinum is feminine and fits perfectly, easy to wear and comfy, too! hig...   \n",
       "\n",
       "       Rating  Recommended IND  Positive Feedback Count   Division Name  \\\n",
       "0           4                1                        0       Initmates   \n",
       "1           5                1                        4         General   \n",
       "2           3                0                        0         General   \n",
       "3           5                1                        0  General Petite   \n",
       "4           5                1                        6         General   \n",
       "...       ...              ...                      ...             ...   \n",
       "23481       5                1                        0  General Petite   \n",
       "23482       3                1                        0  General Petite   \n",
       "23483       3                0                        1  General Petite   \n",
       "23484       3                1                        2         General   \n",
       "23485       5                1                       22  General Petite   \n",
       "\n",
       "      Department Name Class Name  \n",
       "0            Intimate  Intimates  \n",
       "1             Dresses    Dresses  \n",
       "2             Dresses    Dresses  \n",
       "3             Bottoms      Pants  \n",
       "4                Tops    Blouses  \n",
       "...               ...        ...  \n",
       "23481         Dresses    Dresses  \n",
       "23482            Tops      Knits  \n",
       "23483         Dresses    Dresses  \n",
       "23484         Dresses    Dresses  \n",
       "23485         Dresses    Dresses  \n",
       "\n",
       "[22634 rows x 10 columns]"
      ]
     },
     "execution_count": 187,
     "metadata": {},
     "output_type": "execute_result"
    }
   ],
   "source": [
    "ecommerce_review_data[\"Review Text\"] = reviews[\"Review Text\"]\n",
    "ecommerce_review_data"
   ]
  },
  {
   "cell_type": "code",
   "execution_count": 199,
   "metadata": {},
   "outputs": [],
   "source": [
    "ecommerce_review_data_v2: pd.DataFrame = ecommerce_review_data.copy()"
   ]
  },
  {
   "cell_type": "code",
   "execution_count": 200,
   "metadata": {},
   "outputs": [
    {
     "data": {
      "text/html": [
       "<div>\n",
       "<style scoped>\n",
       "    .dataframe tbody tr th:only-of-type {\n",
       "        vertical-align: middle;\n",
       "    }\n",
       "\n",
       "    .dataframe tbody tr th {\n",
       "        vertical-align: top;\n",
       "    }\n",
       "\n",
       "    .dataframe thead th {\n",
       "        text-align: right;\n",
       "    }\n",
       "</style>\n",
       "<table border=\"1\" class=\"dataframe\">\n",
       "  <thead>\n",
       "    <tr style=\"text-align: right;\">\n",
       "      <th></th>\n",
       "      <th>Review Text</th>\n",
       "    </tr>\n",
       "  </thead>\n",
       "  <tbody>\n",
       "    <tr>\n",
       "      <th>0</th>\n",
       "      <td>absolutely wonderful - silky and sexy and comfortable</td>\n",
       "    </tr>\n",
       "    <tr>\n",
       "      <th>1</th>\n",
       "      <td>love this dress!  it's sooo pretty.  i happened to find it in a store, and i'm glad i did bc i n...</td>\n",
       "    </tr>\n",
       "    <tr>\n",
       "      <th>2</th>\n",
       "      <td>i had such high hopes for this dress and really wanted it to work for me. i initially ordered th...</td>\n",
       "    </tr>\n",
       "    <tr>\n",
       "      <th>3</th>\n",
       "      <td>i love, love, love this jumpsuit. it's fun, flirty, and fabulous! every time i wear it, i get no...</td>\n",
       "    </tr>\n",
       "    <tr>\n",
       "      <th>4</th>\n",
       "      <td>this shirt is very flattering to all due to the adjustable front tie. it is the perfect length t...</td>\n",
       "    </tr>\n",
       "    <tr>\n",
       "      <th>...</th>\n",
       "      <td>...</td>\n",
       "    </tr>\n",
       "    <tr>\n",
       "      <th>23481</th>\n",
       "      <td>i was very happy to snag this dress at such a great price! it's very easy to slip on and has a v...</td>\n",
       "    </tr>\n",
       "    <tr>\n",
       "      <th>23482</th>\n",
       "      <td>it reminds me of maternity clothes. soft, stretchy, shiny material. cut is flattering and drapes...</td>\n",
       "    </tr>\n",
       "    <tr>\n",
       "      <th>23483</th>\n",
       "      <td>this fit well, but the top was very see through. this never would have worked for me. i'm glad i...</td>\n",
       "    </tr>\n",
       "    <tr>\n",
       "      <th>23484</th>\n",
       "      <td>i bought this dress for a wedding i have this summer, and it's so cute. unfortunately the fit is...</td>\n",
       "    </tr>\n",
       "    <tr>\n",
       "      <th>23485</th>\n",
       "      <td>this dress in a lovely platinum is feminine and fits perfectly, easy to wear and comfy, too! hig...</td>\n",
       "    </tr>\n",
       "  </tbody>\n",
       "</table>\n",
       "<p>22634 rows × 1 columns</p>\n",
       "</div>"
      ],
      "text/plain": [
       "                                                                                               Review Text\n",
       "0                                                    absolutely wonderful - silky and sexy and comfortable\n",
       "1      love this dress!  it's sooo pretty.  i happened to find it in a store, and i'm glad i did bc i n...\n",
       "2      i had such high hopes for this dress and really wanted it to work for me. i initially ordered th...\n",
       "3      i love, love, love this jumpsuit. it's fun, flirty, and fabulous! every time i wear it, i get no...\n",
       "4      this shirt is very flattering to all due to the adjustable front tie. it is the perfect length t...\n",
       "...                                                                                                    ...\n",
       "23481  i was very happy to snag this dress at such a great price! it's very easy to slip on and has a v...\n",
       "23482  it reminds me of maternity clothes. soft, stretchy, shiny material. cut is flattering and drapes...\n",
       "23483  this fit well, but the top was very see through. this never would have worked for me. i'm glad i...\n",
       "23484  i bought this dress for a wedding i have this summer, and it's so cute. unfortunately the fit is...\n",
       "23485  this dress in a lovely platinum is feminine and fits perfectly, easy to wear and comfy, too! hig...\n",
       "\n",
       "[22634 rows x 1 columns]"
      ]
     },
     "execution_count": 200,
     "metadata": {},
     "output_type": "execute_result"
    }
   ],
   "source": [
    "reviews = ecommerce_review_data_v2[['Review Text']]\n",
    "\n",
    "reviews"
   ]
  },
  {
   "cell_type": "markdown",
   "metadata": {
    "id": "WM5FEEeHsZLP"
   },
   "source": [
    "### 5. Remove \\r\\n (2 marks)"
   ]
  },
  {
   "cell_type": "markdown",
   "metadata": {
    "id": "uNFWk9tesbox"
   },
   "source": [
    "### You also found <font color = 'blue'>*\\r\\n*</font> to be appearing in your dataset quite a bit as well.  \n",
    "\n",
    "### You googled online and found that <font color = 'blue'>*\\r\\n*</font> is used as the new line character in windows to signify the end of a line of text and the start of a new one.  \n",
    "\n",
    "\n",
    "\n",
    "###You want to replace <font color = 'blue'>*\\r\\n*</font> with empty space <font color = 'blue'>' &nbsp;'</font> for better readability."
   ]
  },
  {
   "cell_type": "code",
   "execution_count": 201,
   "metadata": {
    "id": "884i0Los2jpF"
   },
   "outputs": [
    {
     "name": "stdout",
     "output_type": "stream",
     "text": [
      "                                                                                               Review Text\n",
      "13     bought the black xs to go under the larkspur midi dress because they didn't bother lining the sk...\n",
      "20     if this product was in petite, i would get the petite. the regular is a little long on me but a ...\n",
      "72     i have a short torso and this works well for me. 34c, bought the 0. there's not much stretch to ...\n",
      "86     i tried this on from the sale section, and they only had a 2 (i usually do 0), and surprisingly,...\n",
      "95     purchased this top online, and when i received it was very pleased.\\r\\nit has and elegant cut an...\n",
      "...                                                                                                    ...\n",
      "23380  living in a warm climate, i'm always on the hunt for great spring/summer dresses that can be wor...\n",
      "23397  i'm 5'4'', between sizes 12 and 14. i ordered a size petite large, and it's a bit loose, which i...\n",
      "23416  on the hanger, this looks like a great dress .. especially to wear to a hawaii wedding. on me, n...\n",
      "23420  the only reason i gave this top a 4 star, is that it didn't have enough room around the bust are...\n",
      "23451  i recently purchased this dress at my local retailer when it was 40 percent on sale. i was overw...\n",
      "\n",
      "[1397 rows x 1 columns]\n"
     ]
    }
   ],
   "source": [
    "print(reviews[reviews['Review Text'].str.contains('\\r\\n')])"
   ]
  },
  {
   "cell_type": "markdown",
   "metadata": {
    "id": "3WrLz8VpurQa"
   },
   "source": [
    "Show your code below using regex to replace <font color = 'blue'>*\\r\\n*</font> with <font color = 'blue'>' &nbsp;'</font>."
   ]
  },
  {
   "cell_type": "code",
   "execution_count": 202,
   "metadata": {
    "id": "vBwe0QQzzhOI"
   },
   "outputs": [],
   "source": [
    "# code for replacing \\r\\n with ' '.\n",
    "reviews = reviews[reviews['Review Text'].str.contains('\\r\\n')].apply(lambda x: x.str.replace('\\r\\n', ' '))"
   ]
  },
  {
   "cell_type": "code",
   "execution_count": 203,
   "metadata": {},
   "outputs": [
    {
     "data": {
      "text/plain": [
       "'bought the black xs to go under the larkspur midi dress because they didn\\'t bother lining the skirt portion (grrrrrrrrrrr). my stats are 34a-28/29-36 and the xs fit very smoothly around the chest and was flowy around my lower half, so i would say it\\'s running big. the straps are very pretty and it could easily be nightwear too. i\\'m 5\\'6\" and it came to just below my knees.'"
      ]
     },
     "execution_count": 203,
     "metadata": {},
     "output_type": "execute_result"
    }
   ],
   "source": [
    "reviews.loc[13,\"Review Text\"]"
   ]
  },
  {
   "cell_type": "code",
   "execution_count": 204,
   "metadata": {},
   "outputs": [],
   "source": [
    "for index, data in reviews.iterrows():\n",
    "    ecommerce_review_data_v2.loc[index, \"Review Text\"] = data[\"Review Text\"]"
   ]
  },
  {
   "cell_type": "code",
   "execution_count": 205,
   "metadata": {},
   "outputs": [
    {
     "data": {
      "text/html": [
       "<div>\n",
       "<style scoped>\n",
       "    .dataframe tbody tr th:only-of-type {\n",
       "        vertical-align: middle;\n",
       "    }\n",
       "\n",
       "    .dataframe tbody tr th {\n",
       "        vertical-align: top;\n",
       "    }\n",
       "\n",
       "    .dataframe thead th {\n",
       "        text-align: right;\n",
       "    }\n",
       "</style>\n",
       "<table border=\"1\" class=\"dataframe\">\n",
       "  <thead>\n",
       "    <tr style=\"text-align: right;\">\n",
       "      <th></th>\n",
       "      <th>Clothing ID</th>\n",
       "      <th>Age</th>\n",
       "      <th>Title</th>\n",
       "      <th>Review Text</th>\n",
       "      <th>Rating</th>\n",
       "      <th>Recommended IND</th>\n",
       "      <th>Positive Feedback Count</th>\n",
       "      <th>Division Name</th>\n",
       "      <th>Department Name</th>\n",
       "      <th>Class Name</th>\n",
       "    </tr>\n",
       "  </thead>\n",
       "  <tbody>\n",
       "  </tbody>\n",
       "</table>\n",
       "</div>"
      ],
      "text/plain": [
       "Empty DataFrame\n",
       "Columns: [Clothing ID, Age, Title, Review Text, Rating, Recommended IND, Positive Feedback Count, Division Name, Department Name, Class Name]\n",
       "Index: []"
      ]
     },
     "execution_count": 205,
     "metadata": {},
     "output_type": "execute_result"
    }
   ],
   "source": [
    "#There are no records left after applying the search condition in the pandas dataframe\n",
    "ecommerce_review_data_v2[ecommerce_review_data_v2['Review Text'].str.contains('\\r\\n')]"
   ]
  },
  {
   "cell_type": "code",
   "execution_count": 206,
   "metadata": {},
   "outputs": [],
   "source": [
    "ecommerce_review_data_v3: pd.DataFrame = ecommerce_review_data_v2.copy()"
   ]
  },
  {
   "cell_type": "code",
   "execution_count": 207,
   "metadata": {},
   "outputs": [
    {
     "data": {
      "text/html": [
       "<div>\n",
       "<style scoped>\n",
       "    .dataframe tbody tr th:only-of-type {\n",
       "        vertical-align: middle;\n",
       "    }\n",
       "\n",
       "    .dataframe tbody tr th {\n",
       "        vertical-align: top;\n",
       "    }\n",
       "\n",
       "    .dataframe thead th {\n",
       "        text-align: right;\n",
       "    }\n",
       "</style>\n",
       "<table border=\"1\" class=\"dataframe\">\n",
       "  <thead>\n",
       "    <tr style=\"text-align: right;\">\n",
       "      <th></th>\n",
       "      <th>Review Text</th>\n",
       "    </tr>\n",
       "  </thead>\n",
       "  <tbody>\n",
       "    <tr>\n",
       "      <th>0</th>\n",
       "      <td>absolutely wonderful - silky and sexy and comfortable</td>\n",
       "    </tr>\n",
       "    <tr>\n",
       "      <th>1</th>\n",
       "      <td>love this dress!  it's sooo pretty.  i happened to find it in a store, and i'm glad i did bc i n...</td>\n",
       "    </tr>\n",
       "    <tr>\n",
       "      <th>2</th>\n",
       "      <td>i had such high hopes for this dress and really wanted it to work for me. i initially ordered th...</td>\n",
       "    </tr>\n",
       "    <tr>\n",
       "      <th>3</th>\n",
       "      <td>i love, love, love this jumpsuit. it's fun, flirty, and fabulous! every time i wear it, i get no...</td>\n",
       "    </tr>\n",
       "    <tr>\n",
       "      <th>4</th>\n",
       "      <td>this shirt is very flattering to all due to the adjustable front tie. it is the perfect length t...</td>\n",
       "    </tr>\n",
       "    <tr>\n",
       "      <th>...</th>\n",
       "      <td>...</td>\n",
       "    </tr>\n",
       "    <tr>\n",
       "      <th>23481</th>\n",
       "      <td>i was very happy to snag this dress at such a great price! it's very easy to slip on and has a v...</td>\n",
       "    </tr>\n",
       "    <tr>\n",
       "      <th>23482</th>\n",
       "      <td>it reminds me of maternity clothes. soft, stretchy, shiny material. cut is flattering and drapes...</td>\n",
       "    </tr>\n",
       "    <tr>\n",
       "      <th>23483</th>\n",
       "      <td>this fit well, but the top was very see through. this never would have worked for me. i'm glad i...</td>\n",
       "    </tr>\n",
       "    <tr>\n",
       "      <th>23484</th>\n",
       "      <td>i bought this dress for a wedding i have this summer, and it's so cute. unfortunately the fit is...</td>\n",
       "    </tr>\n",
       "    <tr>\n",
       "      <th>23485</th>\n",
       "      <td>this dress in a lovely platinum is feminine and fits perfectly, easy to wear and comfy, too! hig...</td>\n",
       "    </tr>\n",
       "  </tbody>\n",
       "</table>\n",
       "<p>22634 rows × 1 columns</p>\n",
       "</div>"
      ],
      "text/plain": [
       "                                                                                               Review Text\n",
       "0                                                    absolutely wonderful - silky and sexy and comfortable\n",
       "1      love this dress!  it's sooo pretty.  i happened to find it in a store, and i'm glad i did bc i n...\n",
       "2      i had such high hopes for this dress and really wanted it to work for me. i initially ordered th...\n",
       "3      i love, love, love this jumpsuit. it's fun, flirty, and fabulous! every time i wear it, i get no...\n",
       "4      this shirt is very flattering to all due to the adjustable front tie. it is the perfect length t...\n",
       "...                                                                                                    ...\n",
       "23481  i was very happy to snag this dress at such a great price! it's very easy to slip on and has a v...\n",
       "23482  it reminds me of maternity clothes. soft, stretchy, shiny material. cut is flattering and drapes...\n",
       "23483  this fit well, but the top was very see through. this never would have worked for me. i'm glad i...\n",
       "23484  i bought this dress for a wedding i have this summer, and it's so cute. unfortunately the fit is...\n",
       "23485  this dress in a lovely platinum is feminine and fits perfectly, easy to wear and comfy, too! hig...\n",
       "\n",
       "[22634 rows x 1 columns]"
      ]
     },
     "execution_count": 207,
     "metadata": {},
     "output_type": "execute_result"
    }
   ],
   "source": [
    "reviews = ecommerce_review_data_v3[[\"Review Text\"]]\n",
    "\n",
    "reviews"
   ]
  },
  {
   "cell_type": "markdown",
   "metadata": {
    "id": "aJ0W_mLX-sJs"
   },
   "source": [
    "### 6. Contractions mapping (0.5 mark)\n"
   ]
  },
  {
   "cell_type": "markdown",
   "metadata": {
    "id": "pQT6w1wF_EoI"
   },
   "source": [
    "The contraction dictionary is provided for you.\n",
    "\n",
    "Show your code below to apply contraction mapping."
   ]
  },
  {
   "cell_type": "code",
   "execution_count": 209,
   "metadata": {
    "id": "b64XemVh_QZ2"
   },
   "outputs": [],
   "source": [
    "# contractions dictionary\n",
    "\n",
    "contraction_dict = {\"sms\" : \"text message\", \"eng\" : \"england\", \"tbf\" : \"to be fair\", \"soo\" :\"so\", \"dms\" : \"direct messages\", \"gud\" : \"good\", \"acc\" : \"account\", \"uno\" : \"one\", \"cbd\" : \"central business district\",\n",
    "                    \"lel\" : \"laugh out loud\", \"nba\" : \"national basketball association\", \"ppl\" : \"people\", \"sec\" : \"second\", \"pal\" : \"friend\", \"pls\" : \"please\",\n",
    "                    \"meh\" : \"average\", \"smh\" : \"shaking my head\", \"atm\" : \"at the moment\",\"min\" : \"minute\", \"tbh\" : \"to be honest\", \"fps\" : \"frames per second\",\n",
    "                    \"imo\" : \"in my opinion\", \"pic\" : \"picture\", \"isp\" : \"internet service provider\",\"slo\" : \"slow\",\"tbh\" : \"to be honest\", \"cos\" : \"because\", \"utd\" :\"up to date\", \"btw\" : \"by the way\",\n",
    "                    \"aye\" : \"yes\", \"wtf\" : \"what the fuck\", \"havnt\" : \"have not\", \"yea\" : \"yes\", \"isnt\":\"is not\", \"yr\": \"year\", \"yup\" : \"yes\" , \"yay\" :\"yes\", \"fb\" :\"facebook\" ,\n",
    "                    \"fyi\" : \"for your information\",\"ain't\": \"is not\",\"ive\" :\"i have\", \"bro\" : \"brother\", \"omg\" : \"oh my god\", \"wont\" : \"will not\", \"didnt\" : \"did not\", \"aren't\": \"are not\",\n",
    "                    \"can't\": \"cannot\", \"'cause\": \"because\", \"could've\": \"could have\", \"couldn't\": \"could not\", \"didn't\": \"did not\",  \"doesn't\": \"does not\", \"don't\": \"do not\", \"hadn't\": \"had not\",\n",
    "                    \"hasn't\": \"has not\", \"haven't\": \"have not\", \"he'd\": \"he would\",\"he'll\": \"he will\", \"he's\": \"he is\", \"how'd\": \"how did\", \"how'd'y\": \"how do you\", \"how'll\": \"how will\", \"how's\": \"how is\",\n",
    "                    \"I'd\": \"I would\", \"I'd've\": \"I would have\", \"I'll\": \"I will\", \"I'll've\": \"I will have\",\"I'm\": \"I am\", \"I've\": \"I have\", \"i'd\": \"i would\", \"i'd've\": \"i would have\", \"i'll\": \"i will\",\n",
    "                    \"i'll've\": \"i will have\",\"i'm\": \"i am\", \"i've\": \"i have\", \"isn't\": \"is not\", \"it'd\": \"it would\", \"it'd've\": \"it would have\", \"it'll\": \"it will\", \"it'll've\": \"it will have\",\"it's\": \"it is\",\n",
    "                    \"let's\": \"let us\", \"ma'am\": \"madam\", \"mayn't\": \"may not\", \"might've\": \"might have\",\"mightn't\": \"might not\",\"mightn't've\": \"might not have\", \"must've\": \"must have\", \"mustn't\": \"must not\",\n",
    "                    \"mustn't've\": \"must not have\", \"needn't\": \"need not\", \"needn't've\": \"need not have\",\"o'clock\": \"of the clock\", \"oughtn't\": \"ought not\", \"oughtn't've\": \"ought not have\", \"shan't\": \"shall not\",\n",
    "                    \"sha'n't\": \"shall not\", \"shan't've\": \"shall not have\", \"she'd\": \"she would\", \"she'd've\": \"she would have\", \"she'll\": \"she will\", \"she'll've\": \"she will have\", \"she's\": \"she is\",\n",
    "                    \"should've\": \"should have\", \"shouldn't\": \"should not\", \"shouldn't've\": \"should not have\", \"so've\": \"so have\",\"so's\": \"so as\", \"this's\": \"this is\",\"that'd\": \"that would\", \"that'd've\": \"that would have\",\n",
    "                    \"that's\": \"that is\", \"there'd\": \"there would\", \"there'd've\": \"there would have\", \"there's\": \"there is\", \"here's\": \"here is\",\"they'd\": \"they would\", \"they'd've\": \"they would have\", \"they'll\": \"they will\",\n",
    "                    \"they'll've\": \"they will have\", \"they're\": \"they are\", \"they've\": \"they have\", \"to've\": \"to have\", \"wasn't\": \"was not\", \"we'd\": \"we would\", \"we'd've\": \"we would have\", \"we'll\": \"we will\",\n",
    "                    \"we'll've\": \"we will have\", \"we're\": \"we are\", \"we've\": \"we have\", \"weren't\": \"were not\", \"what'll\": \"what will\", \"what'll've\": \"what will have\", \"what're\": \"what are\",  \"what's\": \"what is\",\n",
    "                    \"what've\": \"what have\", \"when's\": \"when is\", \"when've\": \"when have\", \"where'd\": \"where did\", \"where's\": \"where is\", \"where've\": \"where have\", \"who'll\": \"who will\", \"who'll've\": \"who will have\",\n",
    "                    \"who's\": \"who is\", \"who've\": \"who have\", \"why's\": \"why is\", \"why've\": \"why have\", \"will've\": \"will have\", \"won't\": \"will not\", \"won't've\": \"will not have\", \"would've\": \"would have\", \"wouldn't\": \"would not\",\n",
    "                    \"wouldn't've\": \"would not have\", \"y'all\": \"you all\", \"y'all'd\": \"you all would\",\"y'all'd've\": \"you all would have\",\"y'all're\": \"you all are\",\"y'all've\": \"you all have\",\"you'd\": \"you would\",\n",
    "                    \"you'd've\": \"you would have\",\n",
    "                    \"you'll\": \"you will\", \"you'll've\": \"you will have\",\"yeh\": \"yes\", \"you're\": \"you are\", \"you've\": \"you have\", \"yep\" : \"yes\", \"haha\" : \"happy\", \"wah\" : \"wow\", \"dont\" : \"do not\", \"don't\" : \"do not\", \"wat\": \"what\", \"pm\":\"personal message\"}"
   ]
  },
  {
   "cell_type": "code",
   "execution_count": null,
   "metadata": {
    "id": "FwHwCVdA1qb5"
   },
   "outputs": [],
   "source": [
    "# code for replacing contraction.\n"
   ]
  },
  {
   "cell_type": "markdown",
   "metadata": {
    "id": "DE24BQicslNe"
   },
   "source": [
    "### 7. Remove punctuations (0.5 mark)"
   ]
  },
  {
   "cell_type": "markdown",
   "metadata": {
    "id": "7G5WdXLsstCB"
   },
   "source": [
    "Show your code below to remove punctuations."
   ]
  },
  {
   "cell_type": "code",
   "execution_count": null,
   "metadata": {
    "id": "sZCu-jbhwkK7"
   },
   "outputs": [],
   "source": [
    "# code for removing punctuations\n"
   ]
  },
  {
   "cell_type": "markdown",
   "metadata": {
    "id": "-6G-03l7eT-L"
   },
   "source": [
    "###8. Remove digits (2 marks)\n",
    "\n",
    "Digits are generally not useful in sentiment analysis. Let us use regex to remove them!"
   ]
  },
  {
   "cell_type": "markdown",
   "metadata": {
    "id": "czyGmIpkuzWi"
   },
   "source": [
    "Show your code below to remove digits  "
   ]
  },
  {
   "cell_type": "code",
   "execution_count": null,
   "metadata": {
    "id": "vod6a1SqW5eH"
   },
   "outputs": [],
   "source": [
    "# code for removing digits\n"
   ]
  },
  {
   "cell_type": "markdown",
   "metadata": {
    "id": "7xpn1lFwu1NU"
   },
   "source": [
    "###9.Remove non-ASCII (0.5 mark)"
   ]
  },
  {
   "cell_type": "code",
   "execution_count": null,
   "metadata": {
    "id": "sbLq3A0qeBjg"
   },
   "outputs": [],
   "source": [
    "# code for removing non-ASCII\n"
   ]
  },
  {
   "cell_type": "markdown",
   "metadata": {
    "id": "6JQB0WLmPSkd"
   },
   "source": [
    "### 10. Lemmatize reviews (0.5 mark)"
   ]
  },
  {
   "cell_type": "code",
   "execution_count": null,
   "metadata": {
    "id": "8U-DUxCiPb9b"
   },
   "outputs": [],
   "source": [
    "# code for lemmatizing reviews\n"
   ]
  },
  {
   "cell_type": "markdown",
   "metadata": {
    "id": "jOAYTifFjM1n"
   },
   "source": [
    "# Section 3: Analyzing Data and Visualizing the Results\n",
    "\n",
    "After we apply the appropriate pre-processing steps to process our data, we will be make use of the TextBlob library to calculate the polarity of the reviews."
   ]
  },
  {
   "cell_type": "markdown",
   "metadata": {
    "id": "ldAEJmTna2zW"
   },
   "source": [
    "### 11. Import the textblob library (1 mark)"
   ]
  },
  {
   "cell_type": "markdown",
   "metadata": {
    "id": "rvUoBgNkbpYV"
   },
   "source": [
    "Show your code below to import the textblob library.  "
   ]
  },
  {
   "cell_type": "code",
   "execution_count": null,
   "metadata": {
    "id": "RKD64IErbAws"
   },
   "outputs": [],
   "source": [
    "# code to import the textblob library"
   ]
  },
  {
   "cell_type": "markdown",
   "metadata": {
    "id": "B-8dK5RFjM1o"
   },
   "source": [
    "### 12. Calculate polarity score with textblob (1 mark)"
   ]
  },
  {
   "cell_type": "markdown",
   "metadata": {
    "id": "mD9XyRnLbuaV"
   },
   "source": [
    "Show your code below to calculate the polarity score of all the reviews.  "
   ]
  },
  {
   "cell_type": "code",
   "execution_count": null,
   "metadata": {
    "id": "bUWqCe9s2Jsg"
   },
   "outputs": [],
   "source": [
    "# code to calculate"
   ]
  },
  {
   "cell_type": "markdown",
   "metadata": {
    "id": "yAIncIeXjM1p"
   },
   "source": [
    "### 13. Classify the reviews into positive/neutral/negative reviews (1 mark)  "
   ]
  },
  {
   "cell_type": "markdown",
   "metadata": {
    "id": "8R9jn_kTcJ7u"
   },
   "source": [
    "Show your code below to classify the reviews into positive/neutral/negative reviews."
   ]
  },
  {
   "cell_type": "code",
   "execution_count": null,
   "metadata": {
    "id": "xKHB_fOsTeAW"
   },
   "outputs": [],
   "source": [
    "#"
   ]
  },
  {
   "cell_type": "markdown",
   "metadata": {
    "id": "coMdFzrgsAms"
   },
   "source": [
    "### 13 a. Print out any review that is assigned a positive sentiment by textblob. (1 mark)"
   ]
  },
  {
   "cell_type": "code",
   "execution_count": null,
   "metadata": {
    "id": "TdyI1p3RzLtF"
   },
   "outputs": [],
   "source": [
    "#"
   ]
  },
  {
   "cell_type": "markdown",
   "metadata": {
    "id": "SLlS7p4_sgic"
   },
   "source": [
    "### 13 b.  Comment whether you agree with the positive sentiment assigned using textblob?  (Hint: recall textblob’s limitations.) (1 mark)"
   ]
  },
  {
   "cell_type": "code",
   "execution_count": null,
   "metadata": {
    "id": "TzGPOeIZzME_"
   },
   "outputs": [],
   "source": [
    "#"
   ]
  },
  {
   "cell_type": "markdown",
   "metadata": {
    "id": "K7KLvGS1zBjl"
   },
   "source": [
    "### 14 a. Print out any review that is assigned a negative sentiment by textblob. (1 mark)"
   ]
  },
  {
   "cell_type": "code",
   "execution_count": null,
   "metadata": {
    "id": "ITPzjhDuzMaZ"
   },
   "outputs": [],
   "source": [
    "#"
   ]
  },
  {
   "cell_type": "markdown",
   "metadata": {
    "id": "Is4QOaMzzD9N"
   },
   "source": [
    "### 14 b. Comment whether you agree with the negative sentiment assigned using textblob?  (Hint: recall textblob’s limitations.) (1 mark)"
   ]
  },
  {
   "cell_type": "code",
   "execution_count": null,
   "metadata": {
    "id": "Oxv4l5RzzM1I"
   },
   "outputs": [],
   "source": [
    "#"
   ]
  },
  {
   "cell_type": "markdown",
   "metadata": {
    "id": "5k-2t7D7jM1p"
   },
   "source": [
    "# Section 4: Analyse the output of sentiment analysis using appropriate visualization techniques"
   ]
  },
  {
   "cell_type": "markdown",
   "metadata": {
    "id": "5gcE6IZwbBkX"
   },
   "source": [
    "### 15. Using appropriate graphs, visualize the output of sentiment analysis results. (3 marks)  "
   ]
  },
  {
   "cell_type": "code",
   "execution_count": null,
   "metadata": {
    "id": "xr_IkWC3jM1p"
   },
   "outputs": [],
   "source": [
    "#Visualizing the Sentiments\n"
   ]
  },
  {
   "cell_type": "markdown",
   "metadata": {
    "id": "CfxzV17gQQ0U"
   },
   "source": [
    "### 16. Explain your visualization in a few sentences. (2 marks)."
   ]
  },
  {
   "cell_type": "code",
   "execution_count": null,
   "metadata": {
    "id": "W8DWTWetQSDY"
   },
   "outputs": [],
   "source": [
    "# Explantion of your visualization"
   ]
  },
  {
   "cell_type": "markdown",
   "metadata": {
    "id": "YVBMuW3xnVMD"
   },
   "source": [
    "### 17. Print the top 5 most negative reviews. (2 marks)."
   ]
  },
  {
   "cell_type": "code",
   "execution_count": null,
   "metadata": {
    "id": "Z8BUxTFNeFHn"
   },
   "outputs": [],
   "source": [
    "# print the top 5 most negative reviews\n"
   ]
  }
 ],
 "metadata": {
  "colab": {
   "provenance": []
  },
  "kernelspec": {
   "display_name": "Python 3",
   "language": "python",
   "name": "python3"
  },
  "language_info": {
   "codemirror_mode": {
    "name": "ipython",
    "version": 3
   },
   "file_extension": ".py",
   "mimetype": "text/x-python",
   "name": "python",
   "nbconvert_exporter": "python",
   "pygments_lexer": "ipython3",
   "version": "3.12.6"
  }
 },
 "nbformat": 4,
 "nbformat_minor": 0
}
